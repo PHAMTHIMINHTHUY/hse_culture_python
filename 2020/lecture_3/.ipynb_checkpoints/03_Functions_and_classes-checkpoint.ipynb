{
 "cells": [
  {
   "cell_type": "markdown",
   "metadata": {},
   "source": [
    "# Функции и классы"
   ]
  },
  {
   "cell_type": "markdown",
   "metadata": {},
   "source": [
    "## 1. Функции"
   ]
  },
  {
   "cell_type": "markdown",
   "metadata": {},
   "source": [
    "Пусть у нас есть часто используемый участок кода. Например, нам надо в двух разных местах программы найти число Фибоначчи. Переписывать два раза одно и тоже лень. Копи-паст тоже не всегда спасает: если в коде ошибка, то придется менять ее во всех версиях копипаста - долго и неудобно. Поэтому ленивые программисты придумали такую вещь, как функции..."
   ]
  },
  {
   "cell_type": "markdown",
   "metadata": {},
   "source": [
    "Функции объявляются с помощью ключевого слова ``def``, после чего следует название и аргументы функции. Результат \"возвращается\" с помощью ключевого слова ``return``."
   ]
  },
  {
   "cell_type": "code",
   "execution_count": null,
   "metadata": {
    "scrolled": true
   },
   "outputs": [],
   "source": [
    "def add(a,b):\n",
    "    return a + b"
   ]
  },
  {
   "cell_type": "code",
   "execution_count": null,
   "metadata": {
    "scrolled": true
   },
   "outputs": [],
   "source": [
    "print(add(1,2))"
   ]
  },
  {
   "cell_type": "code",
   "execution_count": null,
   "metadata": {
    "scrolled": true
   },
   "outputs": [],
   "source": [
    "print(add(2,1))"
   ]
  },
  {
   "cell_type": "code",
   "execution_count": null,
   "metadata": {
    "scrolled": true
   },
   "outputs": [],
   "source": [
    "print(add(3,3))"
   ]
  },
  {
   "cell_type": "markdown",
   "metadata": {},
   "source": [
    "Для функции есть возможность задавать аргументы по умолчанию."
   ]
  },
  {
   "cell_type": "code",
   "execution_count": null,
   "metadata": {
    "scrolled": true
   },
   "outputs": [],
   "source": [
    "def print_string(s=\"Default string\"):\n",
    "    print(s)"
   ]
  },
  {
   "cell_type": "code",
   "execution_count": null,
   "metadata": {
    "scrolled": true
   },
   "outputs": [],
   "source": [
    "print_string(\"String\")\n",
    "print_string()"
   ]
  },
  {
   "cell_type": "markdown",
   "metadata": {},
   "source": [
    "Функции могут принимать на вход 0+ аргументов, однако аргументы имеющие значение по умолчанию должны следовать СТРОГО ЗА аргументами, у которых нет значения по умолчанию, например:"
   ]
  },
  {
   "cell_type": "code",
   "execution_count": null,
   "metadata": {
    "scrolled": true
   },
   "outputs": [],
   "source": [
    "def test(a, b, c=\"Hello\", d=\"world\"):\n",
    "    return f\"a = {a}, b = {b}, a + b = {a+b} and {c}, {d}!\""
   ]
  },
  {
   "cell_type": "code",
   "execution_count": null,
   "metadata": {
    "scrolled": true
   },
   "outputs": [],
   "source": [
    "test(100, 5)"
   ]
  },
  {
   "cell_type": "code",
   "execution_count": null,
   "metadata": {
    "scrolled": true
   },
   "outputs": [],
   "source": [
    "test(100, 5, d=\"Маша\")"
   ]
  },
  {
   "cell_type": "markdown",
   "metadata": {},
   "source": [
    "Обратный порядок не работает:"
   ]
  },
  {
   "cell_type": "code",
   "execution_count": null,
   "metadata": {
    "scrolled": true
   },
   "outputs": [],
   "source": [
    "test(a=2, b=4, \"Heeeeelllooo\", \"Маша\")"
   ]
  },
  {
   "cell_type": "markdown",
   "metadata": {},
   "source": [
    "**Задание**: напишите функцию, разделяющую строку на пробелы."
   ]
  },
  {
   "cell_type": "code",
   "execution_count": null,
   "metadata": {
    "scrolled": true
   },
   "outputs": [],
   "source": [
    "# your code here"
   ]
  },
  {
   "cell_type": "markdown",
   "metadata": {},
   "source": [
    "### Рекурсия"
   ]
  },
  {
   "cell_type": "markdown",
   "metadata": {},
   "source": [
    "Наверное, единственная вещь, для которой объявление функции незаменимо - рекурсивный вызов. Фокус в том, что внутри функций можно вызывать другие функции. В том числе и функцию, которую мы в данный момент объявляем **(!)**."
   ]
  },
  {
   "cell_type": "code",
   "execution_count": null,
   "metadata": {
    "scrolled": true
   },
   "outputs": [],
   "source": [
    "def factorial(n):\n",
    "    if n == 0:\n",
    "        return 1\n",
    "    else:\n",
    "        return n*factorial(n-1)\n",
    "\n",
    "print(factorial(0))\n",
    "print(factorial(1))\n",
    "print(factorial(2))\n",
    "print(factorial(3))\n",
    "print(factorial(4))\n",
    "print(factorial(5))\n",
    "print(factorial(6))"
   ]
  },
  {
   "cell_type": "markdown",
   "metadata": {},
   "source": [
    "## 2. Классы"
   ]
  },
  {
   "cell_type": "markdown",
   "metadata": {},
   "source": [
    "О классах вообще (и в питоне в частности) можно говорить очень много, они выполняют самые разнообразные функции.\n",
    "\n",
    "Тем кто захочет углубиться в классы, сюда: https://docs.python.org/3/tutorial/classes.html"
   ]
  },
  {
   "cell_type": "markdown",
   "metadata": {},
   "source": [
    "Пример:"
   ]
  },
  {
   "cell_type": "code",
   "execution_count": null,
   "metadata": {
    "scrolled": true
   },
   "outputs": [],
   "source": [
    "# чтобы установить библиотеку emoji\n",
    "!pip install emoji"
   ]
  },
  {
   "cell_type": "code",
   "execution_count": null,
   "metadata": {
    "scrolled": true
   },
   "outputs": [],
   "source": [
    "import emoji\n",
    "from collections import Counter\n",
    "\n",
    "class Preprocessing:\n",
    "    def __init__(self, text):\n",
    "        self.text = text\n",
    "    \n",
    "    def get_sentences(self):\n",
    "        return [i.strip() for i in self.text.replace(\"!\", \".\").replace(\"?\", \".\").replace(\"...\", \".\").replace(\".\\n\", \". \").split(\". \")]\n",
    "    \n",
    "    def get_words(self):\n",
    "        return [i.strip(\".,!?\") for i in self.text.split()]\n",
    "        \n",
    "    def get_counted_words(self):\n",
    "        words = {}\n",
    "        for word in self.text.lower().split():\n",
    "            if word in words:\n",
    "                words[word] += 1\n",
    "            else:\n",
    "                words[word] = 1\n",
    "        return words\n",
    "    \n",
    "    def get_emojis(self):\n",
    "        return set([i for i in self.text if i in emoji.UNICODE_EMOJI])"
   ]
  },
  {
   "cell_type": "code",
   "execution_count": null,
   "metadata": {
    "scrolled": true
   },
   "outputs": [],
   "source": [
    "s = \"\"\"🧨🧨 Так, ребята и зверята, у нас ОТЛИЧНАЯ НОВОСТЬ! В субботу 19-го сентября мы играем сольный концерт в Паверхаусе!\n",
    "Быстренько топайте по ссылке, отмечайтесь и закупайтесь билетами, пока они по 400 р.\n",
    "Сыграем всё, а ещё — ❌ внимание! ❌ — будет премьера новой песни! До субботы! https://vk.com/so_pwrhs\"\"\"\n",
    "\n",
    "preprocess = Preprocessing(s)"
   ]
  },
  {
   "cell_type": "code",
   "execution_count": null,
   "metadata": {
    "scrolled": true
   },
   "outputs": [],
   "source": [
    "preprocess.get_words()"
   ]
  },
  {
   "cell_type": "code",
   "execution_count": null,
   "metadata": {
    "scrolled": true
   },
   "outputs": [],
   "source": [
    "preprocess.get_sentences()"
   ]
  },
  {
   "cell_type": "code",
   "execution_count": null,
   "metadata": {
    "scrolled": true
   },
   "outputs": [],
   "source": [
    "preprocess.get_counted_words()"
   ]
  },
  {
   "cell_type": "code",
   "execution_count": null,
   "metadata": {
    "scrolled": true
   },
   "outputs": [],
   "source": [
    "emojis = preprocess.get_emojis()\n",
    "for i in emojis:\n",
    "    print(i)"
   ]
  },
  {
   "cell_type": "code",
   "execution_count": null,
   "metadata": {
    "scrolled": true
   },
   "outputs": [],
   "source": []
  }
 ],
 "metadata": {
  "kernelspec": {
   "display_name": "Python 3",
   "language": "python",
   "name": "python3"
  },
  "language_info": {
   "codemirror_mode": {
    "name": "ipython",
    "version": 3
   },
   "file_extension": ".py",
   "mimetype": "text/x-python",
   "name": "python",
   "nbconvert_exporter": "python",
   "pygments_lexer": "ipython3",
   "version": "3.6.6"
  }
 },
 "nbformat": 4,
 "nbformat_minor": 2
}
