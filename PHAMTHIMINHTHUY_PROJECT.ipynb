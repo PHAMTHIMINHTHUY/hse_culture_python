{
  "nbformat": 4,
  "nbformat_minor": 5,
  "metadata": {
    "kernelspec": {
      "display_name": "Python 3",
      "language": "python",
      "name": "python3"
    },
    "language_info": {
      "codemirror_mode": {
        "name": "ipython",
        "version": 3
      },
      "file_extension": ".py",
      "mimetype": "text/x-python",
      "name": "python",
      "nbconvert_exporter": "python",
      "pygments_lexer": "ipython3",
      "version": "3.8.8"
    },
    "colab": {
      "name": "PHAMTHIMINHTHUY_PROJECT.ipynb",
      "provenance": [],
      "include_colab_link": true
    }
  },
  "cells": [
    {
      "cell_type": "markdown",
      "metadata": {
        "id": "view-in-github",
        "colab_type": "text"
      },
      "source": [
        "<a href=\"https://colab.research.google.com/github/PHAMTHIMINHTHUY/hse_culture_python/blob/master/PHAMTHIMINHTHUY_PROJECT.ipynb\" target=\"_parent\"><img src=\"https://colab.research.google.com/assets/colab-badge.svg\" alt=\"Open In Colab\"/></a>"
      ]
    },
    {
      "cell_type": "markdown",
      "metadata": {
        "id": "7c98104d"
      },
      "source": [
        "# MUSIC LISTENING STATISTICS ON ARTIST LY TRANG'S ALBUM"
      ],
      "id": "7c98104d"
    },
    {
      "cell_type": "markdown",
      "metadata": {
        "id": "674907ee"
      },
      "source": [
        "* Ly Trang is a young artist. She has been active on Sportify since 2018. She released an album on Sportify called \"Snail Skeleton\" and a live concert collab with two other artists.The genre music that Ly Trang is pursuing is experimental pop and art pop. The songs she creates always have a good effect on the listener, although she is a young artist, Ly Trang also has a certain community of listeners."
      ],
      "id": "674907ee"
    },
    {
      "cell_type": "markdown",
      "metadata": {
        "id": "3c982416"
      },
      "source": [
        "* So today I want to use the pandas library to analyze the statistics on Ly Trang's album (statistics are from the date 21/09/2021 to 18/10/2021 on Sportify)"
      ],
      "id": "3c982416"
    },
    {
      "cell_type": "code",
      "metadata": {
        "id": "28e43ee8"
      },
      "source": [
        "#First we need to import pandas and numpy to be able to use them.\n",
        "import pandas as pd\n",
        "import numpy as np"
      ],
      "id": "28e43ee8",
      "execution_count": null,
      "outputs": []
    },
    {
      "cell_type": "markdown",
      "metadata": {
        "id": "7d1cd354"
      },
      "source": [
        "# Read TSV file using Pandas library"
      ],
      "id": "7d1cd354"
    },
    {
      "cell_type": "code",
      "metadata": {
        "id": "a110ff43"
      },
      "source": [
        "#To read a file .csv i use the \"read_csv\".\n",
        "#And will be returned a dataframe.\n",
        "df = pd.read_csv(\"audience.tsv\",sep = \"\\t\")"
      ],
      "id": "a110ff43",
      "execution_count": null,
      "outputs": []
    },
    {
      "cell_type": "code",
      "metadata": {
        "id": "9ff5a03a",
        "outputId": "dcab37ff-dacc-4367-a1d5-ae807fe2d6bb"
      },
      "source": [
        "#Then printed out the first record of the dataframe \n",
        "#And I used the \"head\".\n",
        "df.head()"
      ],
      "id": "9ff5a03a",
      "execution_count": null,
      "outputs": [
        {
          "data": {
            "text/html": [
              "<div>\n",
              "<style scoped>\n",
              "    .dataframe tbody tr th:only-of-type {\n",
              "        vertical-align: middle;\n",
              "    }\n",
              "\n",
              "    .dataframe tbody tr th {\n",
              "        vertical-align: top;\n",
              "    }\n",
              "\n",
              "    .dataframe thead th {\n",
              "        text-align: right;\n",
              "    }\n",
              "</style>\n",
              "<table border=\"1\" class=\"dataframe\">\n",
              "  <thead>\n",
              "    <tr style=\"text-align: right;\">\n",
              "      <th></th>\n",
              "      <th>DAYS</th>\n",
              "      <th>LISTENERS</th>\n",
              "      <th>STREAMS</th>\n",
              "      <th>FOLLOWERS</th>\n",
              "    </tr>\n",
              "  </thead>\n",
              "  <tbody>\n",
              "    <tr>\n",
              "      <th>0</th>\n",
              "      <td>21-Sep</td>\n",
              "      <td>2</td>\n",
              "      <td>2</td>\n",
              "      <td>76</td>\n",
              "    </tr>\n",
              "    <tr>\n",
              "      <th>1</th>\n",
              "      <td>22-Sep</td>\n",
              "      <td>2</td>\n",
              "      <td>14</td>\n",
              "      <td>76</td>\n",
              "    </tr>\n",
              "    <tr>\n",
              "      <th>2</th>\n",
              "      <td>23-Sep</td>\n",
              "      <td>1</td>\n",
              "      <td>1</td>\n",
              "      <td>76</td>\n",
              "    </tr>\n",
              "    <tr>\n",
              "      <th>3</th>\n",
              "      <td>24-Sep</td>\n",
              "      <td>2</td>\n",
              "      <td>2</td>\n",
              "      <td>76</td>\n",
              "    </tr>\n",
              "    <tr>\n",
              "      <th>4</th>\n",
              "      <td>25-Sep</td>\n",
              "      <td>6</td>\n",
              "      <td>17</td>\n",
              "      <td>76</td>\n",
              "    </tr>\n",
              "  </tbody>\n",
              "</table>\n",
              "</div>"
            ],
            "text/plain": [
              "     DAYS  LISTENERS  STREAMS  FOLLOWERS\n",
              "0  21-Sep          2        2         76\n",
              "1  22-Sep          2       14         76\n",
              "2  23-Sep          1        1         76\n",
              "3  24-Sep          2        2         76\n",
              "4  25-Sep          6       17         76"
            ]
          },
          "execution_count": 42,
          "metadata": {},
          "output_type": "execute_result"
        }
      ]
    },
    {
      "cell_type": "code",
      "metadata": {
        "id": "611fe1db",
        "outputId": "5c102119-12cd-485c-946a-38029caf8ffe"
      },
      "source": [
        "# Then I view the dataframe's size using the \"shape\"\n",
        "df.shape"
      ],
      "id": "611fe1db",
      "execution_count": null,
      "outputs": [
        {
          "data": {
            "text/plain": [
              "(28, 4)"
            ]
          },
          "execution_count": 9,
          "metadata": {},
          "output_type": "execute_result"
        }
      ]
    },
    {
      "cell_type": "code",
      "metadata": {
        "id": "0e1999ef",
        "outputId": "e61e9e1b-f7c3-4b4f-c410-1a4155dbf043"
      },
      "source": [
        "#Then I view the dataframe's information using the \"info\"\n",
        "df.info()"
      ],
      "id": "0e1999ef",
      "execution_count": null,
      "outputs": [
        {
          "name": "stdout",
          "output_type": "stream",
          "text": [
            "<class 'pandas.core.frame.DataFrame'>\n",
            "RangeIndex: 28 entries, 0 to 27\n",
            "Data columns (total 4 columns):\n",
            " #   Column     Non-Null Count  Dtype \n",
            "---  ------     --------------  ----- \n",
            " 0   DAYS       28 non-null     object\n",
            " 1   LISTENERS  28 non-null     int64 \n",
            " 2   STREAMS    28 non-null     int64 \n",
            " 3   FOLLOWERS  28 non-null     int64 \n",
            "dtypes: int64(3), object(1)\n",
            "memory usage: 1.0+ KB\n"
          ]
        }
      ]
    },
    {
      "cell_type": "code",
      "metadata": {
        "id": "2056b109",
        "outputId": "d4e0812e-97b0-48b6-ff27-a69289c07796"
      },
      "source": [
        "#print all the columns' name\n",
        "list(df.columns)"
      ],
      "id": "2056b109",
      "execution_count": null,
      "outputs": [
        {
          "data": {
            "text/plain": [
              "['DAYS', 'LISTENERS', 'STREAMS', 'FOLLOWERS']"
            ]
          },
          "execution_count": 11,
          "metadata": {},
          "output_type": "execute_result"
        }
      ]
    },
    {
      "cell_type": "code",
      "metadata": {
        "id": "236de586",
        "outputId": "38b18247-a53b-45e5-908d-ebfbf7251b16"
      },
      "source": [
        "#print all indexing in the datafame\n",
        "df.index"
      ],
      "id": "236de586",
      "execution_count": null,
      "outputs": [
        {
          "data": {
            "text/plain": [
              "RangeIndex(start=0, stop=28, step=1)"
            ]
          },
          "execution_count": 12,
          "metadata": {},
          "output_type": "execute_result"
        }
      ]
    },
    {
      "cell_type": "code",
      "metadata": {
        "id": "c80b3073",
        "outputId": "ad444552-d667-4ac1-dea8-1066c25f2443"
      },
      "source": [
        "#print basic statistics on data\n",
        "df.describe()"
      ],
      "id": "c80b3073",
      "execution_count": null,
      "outputs": [
        {
          "data": {
            "text/html": [
              "<div>\n",
              "<style scoped>\n",
              "    .dataframe tbody tr th:only-of-type {\n",
              "        vertical-align: middle;\n",
              "    }\n",
              "\n",
              "    .dataframe tbody tr th {\n",
              "        vertical-align: top;\n",
              "    }\n",
              "\n",
              "    .dataframe thead th {\n",
              "        text-align: right;\n",
              "    }\n",
              "</style>\n",
              "<table border=\"1\" class=\"dataframe\">\n",
              "  <thead>\n",
              "    <tr style=\"text-align: right;\">\n",
              "      <th></th>\n",
              "      <th>LISTENERS</th>\n",
              "      <th>STREAMS</th>\n",
              "      <th>FOLLOWERS</th>\n",
              "    </tr>\n",
              "  </thead>\n",
              "  <tbody>\n",
              "    <tr>\n",
              "      <th>count</th>\n",
              "      <td>28.000000</td>\n",
              "      <td>28.000000</td>\n",
              "      <td>28.000000</td>\n",
              "    </tr>\n",
              "    <tr>\n",
              "      <th>mean</th>\n",
              "      <td>4.035714</td>\n",
              "      <td>8.642857</td>\n",
              "      <td>81.857143</td>\n",
              "    </tr>\n",
              "    <tr>\n",
              "      <th>std</th>\n",
              "      <td>3.225846</td>\n",
              "      <td>7.469515</td>\n",
              "      <td>4.584307</td>\n",
              "    </tr>\n",
              "    <tr>\n",
              "      <th>min</th>\n",
              "      <td>1.000000</td>\n",
              "      <td>1.000000</td>\n",
              "      <td>76.000000</td>\n",
              "    </tr>\n",
              "    <tr>\n",
              "      <th>25%</th>\n",
              "      <td>2.000000</td>\n",
              "      <td>3.000000</td>\n",
              "      <td>77.750000</td>\n",
              "    </tr>\n",
              "    <tr>\n",
              "      <th>50%</th>\n",
              "      <td>3.000000</td>\n",
              "      <td>6.000000</td>\n",
              "      <td>81.500000</td>\n",
              "    </tr>\n",
              "    <tr>\n",
              "      <th>75%</th>\n",
              "      <td>5.000000</td>\n",
              "      <td>14.000000</td>\n",
              "      <td>87.000000</td>\n",
              "    </tr>\n",
              "    <tr>\n",
              "      <th>max</th>\n",
              "      <td>18.000000</td>\n",
              "      <td>28.000000</td>\n",
              "      <td>88.000000</td>\n",
              "    </tr>\n",
              "  </tbody>\n",
              "</table>\n",
              "</div>"
            ],
            "text/plain": [
              "       LISTENERS    STREAMS  FOLLOWERS\n",
              "count  28.000000  28.000000  28.000000\n",
              "mean    4.035714   8.642857  81.857143\n",
              "std     3.225846   7.469515   4.584307\n",
              "min     1.000000   1.000000  76.000000\n",
              "25%     2.000000   3.000000  77.750000\n",
              "50%     3.000000   6.000000  81.500000\n",
              "75%     5.000000  14.000000  87.000000\n",
              "max    18.000000  28.000000  88.000000"
            ]
          },
          "execution_count": 13,
          "metadata": {},
          "output_type": "execute_result"
        }
      ]
    },
    {
      "cell_type": "code",
      "metadata": {
        "id": "f6284b88",
        "outputId": "a0a4e12a-120a-44f8-8c39-7837befc750d"
      },
      "source": [
        "df.describe(include=\"all\")"
      ],
      "id": "f6284b88",
      "execution_count": null,
      "outputs": [
        {
          "data": {
            "text/html": [
              "<div>\n",
              "<style scoped>\n",
              "    .dataframe tbody tr th:only-of-type {\n",
              "        vertical-align: middle;\n",
              "    }\n",
              "\n",
              "    .dataframe tbody tr th {\n",
              "        vertical-align: top;\n",
              "    }\n",
              "\n",
              "    .dataframe thead th {\n",
              "        text-align: right;\n",
              "    }\n",
              "</style>\n",
              "<table border=\"1\" class=\"dataframe\">\n",
              "  <thead>\n",
              "    <tr style=\"text-align: right;\">\n",
              "      <th></th>\n",
              "      <th>DAYS</th>\n",
              "      <th>LISTENERS</th>\n",
              "      <th>STREAMS</th>\n",
              "      <th>FOLLOWERS</th>\n",
              "    </tr>\n",
              "  </thead>\n",
              "  <tbody>\n",
              "    <tr>\n",
              "      <th>count</th>\n",
              "      <td>28</td>\n",
              "      <td>28.000000</td>\n",
              "      <td>28.000000</td>\n",
              "      <td>28.000000</td>\n",
              "    </tr>\n",
              "    <tr>\n",
              "      <th>unique</th>\n",
              "      <td>28</td>\n",
              "      <td>NaN</td>\n",
              "      <td>NaN</td>\n",
              "      <td>NaN</td>\n",
              "    </tr>\n",
              "    <tr>\n",
              "      <th>top</th>\n",
              "      <td>14-Oct</td>\n",
              "      <td>NaN</td>\n",
              "      <td>NaN</td>\n",
              "      <td>NaN</td>\n",
              "    </tr>\n",
              "    <tr>\n",
              "      <th>freq</th>\n",
              "      <td>1</td>\n",
              "      <td>NaN</td>\n",
              "      <td>NaN</td>\n",
              "      <td>NaN</td>\n",
              "    </tr>\n",
              "    <tr>\n",
              "      <th>mean</th>\n",
              "      <td>NaN</td>\n",
              "      <td>4.035714</td>\n",
              "      <td>8.642857</td>\n",
              "      <td>81.857143</td>\n",
              "    </tr>\n",
              "    <tr>\n",
              "      <th>std</th>\n",
              "      <td>NaN</td>\n",
              "      <td>3.225846</td>\n",
              "      <td>7.469515</td>\n",
              "      <td>4.584307</td>\n",
              "    </tr>\n",
              "    <tr>\n",
              "      <th>min</th>\n",
              "      <td>NaN</td>\n",
              "      <td>1.000000</td>\n",
              "      <td>1.000000</td>\n",
              "      <td>76.000000</td>\n",
              "    </tr>\n",
              "    <tr>\n",
              "      <th>25%</th>\n",
              "      <td>NaN</td>\n",
              "      <td>2.000000</td>\n",
              "      <td>3.000000</td>\n",
              "      <td>77.750000</td>\n",
              "    </tr>\n",
              "    <tr>\n",
              "      <th>50%</th>\n",
              "      <td>NaN</td>\n",
              "      <td>3.000000</td>\n",
              "      <td>6.000000</td>\n",
              "      <td>81.500000</td>\n",
              "    </tr>\n",
              "    <tr>\n",
              "      <th>75%</th>\n",
              "      <td>NaN</td>\n",
              "      <td>5.000000</td>\n",
              "      <td>14.000000</td>\n",
              "      <td>87.000000</td>\n",
              "    </tr>\n",
              "    <tr>\n",
              "      <th>max</th>\n",
              "      <td>NaN</td>\n",
              "      <td>18.000000</td>\n",
              "      <td>28.000000</td>\n",
              "      <td>88.000000</td>\n",
              "    </tr>\n",
              "  </tbody>\n",
              "</table>\n",
              "</div>"
            ],
            "text/plain": [
              "          DAYS  LISTENERS    STREAMS  FOLLOWERS\n",
              "count       28  28.000000  28.000000  28.000000\n",
              "unique      28        NaN        NaN        NaN\n",
              "top     14-Oct        NaN        NaN        NaN\n",
              "freq         1        NaN        NaN        NaN\n",
              "mean       NaN   4.035714   8.642857  81.857143\n",
              "std        NaN   3.225846   7.469515   4.584307\n",
              "min        NaN   1.000000   1.000000  76.000000\n",
              "25%        NaN   2.000000   3.000000  77.750000\n",
              "50%        NaN   3.000000   6.000000  81.500000\n",
              "75%        NaN   5.000000  14.000000  87.000000\n",
              "max        NaN  18.000000  28.000000  88.000000"
            ]
          },
          "execution_count": 14,
          "metadata": {},
          "output_type": "execute_result"
        }
      ]
    },
    {
      "cell_type": "markdown",
      "metadata": {
        "id": "407dbd80"
      },
      "source": [
        "# LOC VS ILOC"
      ],
      "id": "407dbd80"
    },
    {
      "cell_type": "code",
      "metadata": {
        "id": "b6a035d5",
        "outputId": "b48df183-c6e0-432c-9d35-1bea0ad0107b"
      },
      "source": [
        "# Reprint the dataset again\n",
        "df.head()"
      ],
      "id": "b6a035d5",
      "execution_count": null,
      "outputs": [
        {
          "data": {
            "text/html": [
              "<div>\n",
              "<style scoped>\n",
              "    .dataframe tbody tr th:only-of-type {\n",
              "        vertical-align: middle;\n",
              "    }\n",
              "\n",
              "    .dataframe tbody tr th {\n",
              "        vertical-align: top;\n",
              "    }\n",
              "\n",
              "    .dataframe thead th {\n",
              "        text-align: right;\n",
              "    }\n",
              "</style>\n",
              "<table border=\"1\" class=\"dataframe\">\n",
              "  <thead>\n",
              "    <tr style=\"text-align: right;\">\n",
              "      <th></th>\n",
              "      <th>DAYS</th>\n",
              "      <th>LISTENERS</th>\n",
              "      <th>STREAMS</th>\n",
              "      <th>FOLLOWERS</th>\n",
              "    </tr>\n",
              "  </thead>\n",
              "  <tbody>\n",
              "    <tr>\n",
              "      <th>0</th>\n",
              "      <td>21-Sep</td>\n",
              "      <td>2</td>\n",
              "      <td>2</td>\n",
              "      <td>76</td>\n",
              "    </tr>\n",
              "    <tr>\n",
              "      <th>1</th>\n",
              "      <td>22-Sep</td>\n",
              "      <td>2</td>\n",
              "      <td>14</td>\n",
              "      <td>76</td>\n",
              "    </tr>\n",
              "    <tr>\n",
              "      <th>2</th>\n",
              "      <td>23-Sep</td>\n",
              "      <td>1</td>\n",
              "      <td>1</td>\n",
              "      <td>76</td>\n",
              "    </tr>\n",
              "    <tr>\n",
              "      <th>3</th>\n",
              "      <td>24-Sep</td>\n",
              "      <td>2</td>\n",
              "      <td>2</td>\n",
              "      <td>76</td>\n",
              "    </tr>\n",
              "    <tr>\n",
              "      <th>4</th>\n",
              "      <td>25-Sep</td>\n",
              "      <td>6</td>\n",
              "      <td>17</td>\n",
              "      <td>76</td>\n",
              "    </tr>\n",
              "  </tbody>\n",
              "</table>\n",
              "</div>"
            ],
            "text/plain": [
              "     DAYS  LISTENERS  STREAMS  FOLLOWERS\n",
              "0  21-Sep          2        2         76\n",
              "1  22-Sep          2       14         76\n",
              "2  23-Sep          1        1         76\n",
              "3  24-Sep          2        2         76\n",
              "4  25-Sep          6       17         76"
            ]
          },
          "execution_count": 15,
          "metadata": {},
          "output_type": "execute_result"
        }
      ]
    },
    {
      "cell_type": "code",
      "metadata": {
        "id": "34b58aa7",
        "outputId": "a53a7b5b-99a0-41af-a5e4-f3fdcc99087f"
      },
      "source": [
        "#Select values in the Listeners row that are worth 6\n",
        "df.loc[(df['LISTENERS']  == 6)]"
      ],
      "id": "34b58aa7",
      "execution_count": null,
      "outputs": [
        {
          "data": {
            "text/html": [
              "<div>\n",
              "<style scoped>\n",
              "    .dataframe tbody tr th:only-of-type {\n",
              "        vertical-align: middle;\n",
              "    }\n",
              "\n",
              "    .dataframe tbody tr th {\n",
              "        vertical-align: top;\n",
              "    }\n",
              "\n",
              "    .dataframe thead th {\n",
              "        text-align: right;\n",
              "    }\n",
              "</style>\n",
              "<table border=\"1\" class=\"dataframe\">\n",
              "  <thead>\n",
              "    <tr style=\"text-align: right;\">\n",
              "      <th></th>\n",
              "      <th>DAYS</th>\n",
              "      <th>LISTENERS</th>\n",
              "      <th>STREAMS</th>\n",
              "      <th>FOLLOWERS</th>\n",
              "    </tr>\n",
              "  </thead>\n",
              "  <tbody>\n",
              "    <tr>\n",
              "      <th>4</th>\n",
              "      <td>25-Sep</td>\n",
              "      <td>6</td>\n",
              "      <td>17</td>\n",
              "      <td>76</td>\n",
              "    </tr>\n",
              "    <tr>\n",
              "      <th>23</th>\n",
              "      <td>14-Oct</td>\n",
              "      <td>6</td>\n",
              "      <td>7</td>\n",
              "      <td>87</td>\n",
              "    </tr>\n",
              "  </tbody>\n",
              "</table>\n",
              "</div>"
            ],
            "text/plain": [
              "      DAYS  LISTENERS  STREAMS  FOLLOWERS\n",
              "4   25-Sep          6       17         76\n",
              "23  14-Oct          6        7         87"
            ]
          },
          "execution_count": 44,
          "metadata": {},
          "output_type": "execute_result"
        }
      ]
    },
    {
      "cell_type": "code",
      "metadata": {
        "id": "40163b05",
        "outputId": "54214e2b-41bb-4ed8-8472-3599f3830ada"
      },
      "source": [
        "#print value in row 23\n",
        "df.iloc[[23]]"
      ],
      "id": "40163b05",
      "execution_count": null,
      "outputs": [
        {
          "data": {
            "text/html": [
              "<div>\n",
              "<style scoped>\n",
              "    .dataframe tbody tr th:only-of-type {\n",
              "        vertical-align: middle;\n",
              "    }\n",
              "\n",
              "    .dataframe tbody tr th {\n",
              "        vertical-align: top;\n",
              "    }\n",
              "\n",
              "    .dataframe thead th {\n",
              "        text-align: right;\n",
              "    }\n",
              "</style>\n",
              "<table border=\"1\" class=\"dataframe\">\n",
              "  <thead>\n",
              "    <tr style=\"text-align: right;\">\n",
              "      <th></th>\n",
              "      <th>DAYS</th>\n",
              "      <th>LISTENERS</th>\n",
              "      <th>STREAMS</th>\n",
              "      <th>FOLLOWERS</th>\n",
              "    </tr>\n",
              "  </thead>\n",
              "  <tbody>\n",
              "    <tr>\n",
              "      <th>23</th>\n",
              "      <td>14-Oct</td>\n",
              "      <td>6</td>\n",
              "      <td>7</td>\n",
              "      <td>87</td>\n",
              "    </tr>\n",
              "  </tbody>\n",
              "</table>\n",
              "</div>"
            ],
            "text/plain": [
              "      DAYS  LISTENERS  STREAMS  FOLLOWERS\n",
              "23  14-Oct          6        7         87"
            ]
          },
          "execution_count": 17,
          "metadata": {},
          "output_type": "execute_result"
        }
      ]
    },
    {
      "cell_type": "code",
      "metadata": {
        "id": "e16ae5e8",
        "outputId": "8b5e5377-f4d4-47f9-a813-293aca009912"
      },
      "source": [
        "# print value from row 12 to row 23\n",
        "df.iloc[12:24]"
      ],
      "id": "e16ae5e8",
      "execution_count": null,
      "outputs": [
        {
          "data": {
            "text/html": [
              "<div>\n",
              "<style scoped>\n",
              "    .dataframe tbody tr th:only-of-type {\n",
              "        vertical-align: middle;\n",
              "    }\n",
              "\n",
              "    .dataframe tbody tr th {\n",
              "        vertical-align: top;\n",
              "    }\n",
              "\n",
              "    .dataframe thead th {\n",
              "        text-align: right;\n",
              "    }\n",
              "</style>\n",
              "<table border=\"1\" class=\"dataframe\">\n",
              "  <thead>\n",
              "    <tr style=\"text-align: right;\">\n",
              "      <th></th>\n",
              "      <th>DAYS</th>\n",
              "      <th>LISTENERS</th>\n",
              "      <th>STREAMS</th>\n",
              "      <th>FOLLOWERS</th>\n",
              "    </tr>\n",
              "  </thead>\n",
              "  <tbody>\n",
              "    <tr>\n",
              "      <th>12</th>\n",
              "      <td>03-Oct</td>\n",
              "      <td>2</td>\n",
              "      <td>2</td>\n",
              "      <td>81</td>\n",
              "    </tr>\n",
              "    <tr>\n",
              "      <th>13</th>\n",
              "      <td>04-Oct</td>\n",
              "      <td>4</td>\n",
              "      <td>5</td>\n",
              "      <td>81</td>\n",
              "    </tr>\n",
              "    <tr>\n",
              "      <th>14</th>\n",
              "      <td>05-Oct</td>\n",
              "      <td>2</td>\n",
              "      <td>4</td>\n",
              "      <td>82</td>\n",
              "    </tr>\n",
              "    <tr>\n",
              "      <th>15</th>\n",
              "      <td>06-Oct</td>\n",
              "      <td>3</td>\n",
              "      <td>14</td>\n",
              "      <td>82</td>\n",
              "    </tr>\n",
              "    <tr>\n",
              "      <th>16</th>\n",
              "      <td>07-Oct</td>\n",
              "      <td>3</td>\n",
              "      <td>5</td>\n",
              "      <td>82</td>\n",
              "    </tr>\n",
              "    <tr>\n",
              "      <th>17</th>\n",
              "      <td>08-Oct</td>\n",
              "      <td>18</td>\n",
              "      <td>23</td>\n",
              "      <td>82</td>\n",
              "    </tr>\n",
              "    <tr>\n",
              "      <th>18</th>\n",
              "      <td>09-Oct</td>\n",
              "      <td>7</td>\n",
              "      <td>28</td>\n",
              "      <td>86</td>\n",
              "    </tr>\n",
              "    <tr>\n",
              "      <th>19</th>\n",
              "      <td>10-Oct</td>\n",
              "      <td>7</td>\n",
              "      <td>8</td>\n",
              "      <td>87</td>\n",
              "    </tr>\n",
              "    <tr>\n",
              "      <th>20</th>\n",
              "      <td>11-Oct</td>\n",
              "      <td>5</td>\n",
              "      <td>6</td>\n",
              "      <td>87</td>\n",
              "    </tr>\n",
              "    <tr>\n",
              "      <th>21</th>\n",
              "      <td>12-Oct</td>\n",
              "      <td>5</td>\n",
              "      <td>9</td>\n",
              "      <td>87</td>\n",
              "    </tr>\n",
              "    <tr>\n",
              "      <th>22</th>\n",
              "      <td>13-Oct</td>\n",
              "      <td>5</td>\n",
              "      <td>6</td>\n",
              "      <td>87</td>\n",
              "    </tr>\n",
              "    <tr>\n",
              "      <th>23</th>\n",
              "      <td>14-Oct</td>\n",
              "      <td>6</td>\n",
              "      <td>7</td>\n",
              "      <td>87</td>\n",
              "    </tr>\n",
              "  </tbody>\n",
              "</table>\n",
              "</div>"
            ],
            "text/plain": [
              "      DAYS  LISTENERS  STREAMS  FOLLOWERS\n",
              "12  03-Oct          2        2         81\n",
              "13  04-Oct          4        5         81\n",
              "14  05-Oct          2        4         82\n",
              "15  06-Oct          3       14         82\n",
              "16  07-Oct          3        5         82\n",
              "17  08-Oct         18       23         82\n",
              "18  09-Oct          7       28         86\n",
              "19  10-Oct          7        8         87\n",
              "20  11-Oct          5        6         87\n",
              "21  12-Oct          5        9         87\n",
              "22  13-Oct          5        6         87\n",
              "23  14-Oct          6        7         87"
            ]
          },
          "execution_count": 18,
          "metadata": {},
          "output_type": "execute_result"
        }
      ]
    },
    {
      "cell_type": "markdown",
      "metadata": {
        "id": "1439b7f5"
      },
      "source": [
        "# Group By"
      ],
      "id": "1439b7f5"
    },
    {
      "cell_type": "code",
      "metadata": {
        "id": "e22c82fa",
        "outputId": "5143623e-8ffd-450c-f384-86737f48b589"
      },
      "source": [
        "group_df= df[[\"DAYS\",\"FOLLOWERS\"]] \n",
        "group_df"
      ],
      "id": "e22c82fa",
      "execution_count": null,
      "outputs": [
        {
          "data": {
            "text/html": [
              "<div>\n",
              "<style scoped>\n",
              "    .dataframe tbody tr th:only-of-type {\n",
              "        vertical-align: middle;\n",
              "    }\n",
              "\n",
              "    .dataframe tbody tr th {\n",
              "        vertical-align: top;\n",
              "    }\n",
              "\n",
              "    .dataframe thead th {\n",
              "        text-align: right;\n",
              "    }\n",
              "</style>\n",
              "<table border=\"1\" class=\"dataframe\">\n",
              "  <thead>\n",
              "    <tr style=\"text-align: right;\">\n",
              "      <th></th>\n",
              "      <th>DAYS</th>\n",
              "      <th>FOLLOWERS</th>\n",
              "    </tr>\n",
              "  </thead>\n",
              "  <tbody>\n",
              "    <tr>\n",
              "      <th>0</th>\n",
              "      <td>21-Sep</td>\n",
              "      <td>76</td>\n",
              "    </tr>\n",
              "    <tr>\n",
              "      <th>1</th>\n",
              "      <td>22-Sep</td>\n",
              "      <td>76</td>\n",
              "    </tr>\n",
              "    <tr>\n",
              "      <th>2</th>\n",
              "      <td>23-Sep</td>\n",
              "      <td>76</td>\n",
              "    </tr>\n",
              "    <tr>\n",
              "      <th>3</th>\n",
              "      <td>24-Sep</td>\n",
              "      <td>76</td>\n",
              "    </tr>\n",
              "    <tr>\n",
              "      <th>4</th>\n",
              "      <td>25-Sep</td>\n",
              "      <td>76</td>\n",
              "    </tr>\n",
              "    <tr>\n",
              "      <th>5</th>\n",
              "      <td>26-Sep</td>\n",
              "      <td>77</td>\n",
              "    </tr>\n",
              "    <tr>\n",
              "      <th>6</th>\n",
              "      <td>27-Sep</td>\n",
              "      <td>77</td>\n",
              "    </tr>\n",
              "    <tr>\n",
              "      <th>7</th>\n",
              "      <td>28-Sep</td>\n",
              "      <td>78</td>\n",
              "    </tr>\n",
              "    <tr>\n",
              "      <th>8</th>\n",
              "      <td>29-Sep</td>\n",
              "      <td>78</td>\n",
              "    </tr>\n",
              "    <tr>\n",
              "      <th>9</th>\n",
              "      <td>30-Sep</td>\n",
              "      <td>79</td>\n",
              "    </tr>\n",
              "    <tr>\n",
              "      <th>10</th>\n",
              "      <td>01-Oct</td>\n",
              "      <td>79</td>\n",
              "    </tr>\n",
              "    <tr>\n",
              "      <th>11</th>\n",
              "      <td>02-Oct</td>\n",
              "      <td>81</td>\n",
              "    </tr>\n",
              "    <tr>\n",
              "      <th>12</th>\n",
              "      <td>03-Oct</td>\n",
              "      <td>81</td>\n",
              "    </tr>\n",
              "    <tr>\n",
              "      <th>13</th>\n",
              "      <td>04-Oct</td>\n",
              "      <td>81</td>\n",
              "    </tr>\n",
              "    <tr>\n",
              "      <th>14</th>\n",
              "      <td>05-Oct</td>\n",
              "      <td>82</td>\n",
              "    </tr>\n",
              "    <tr>\n",
              "      <th>15</th>\n",
              "      <td>06-Oct</td>\n",
              "      <td>82</td>\n",
              "    </tr>\n",
              "    <tr>\n",
              "      <th>16</th>\n",
              "      <td>07-Oct</td>\n",
              "      <td>82</td>\n",
              "    </tr>\n",
              "    <tr>\n",
              "      <th>17</th>\n",
              "      <td>08-Oct</td>\n",
              "      <td>82</td>\n",
              "    </tr>\n",
              "    <tr>\n",
              "      <th>18</th>\n",
              "      <td>09-Oct</td>\n",
              "      <td>86</td>\n",
              "    </tr>\n",
              "    <tr>\n",
              "      <th>19</th>\n",
              "      <td>10-Oct</td>\n",
              "      <td>87</td>\n",
              "    </tr>\n",
              "    <tr>\n",
              "      <th>20</th>\n",
              "      <td>11-Oct</td>\n",
              "      <td>87</td>\n",
              "    </tr>\n",
              "    <tr>\n",
              "      <th>21</th>\n",
              "      <td>12-Oct</td>\n",
              "      <td>87</td>\n",
              "    </tr>\n",
              "    <tr>\n",
              "      <th>22</th>\n",
              "      <td>13-Oct</td>\n",
              "      <td>87</td>\n",
              "    </tr>\n",
              "    <tr>\n",
              "      <th>23</th>\n",
              "      <td>14-Oct</td>\n",
              "      <td>87</td>\n",
              "    </tr>\n",
              "    <tr>\n",
              "      <th>24</th>\n",
              "      <td>15-Oct</td>\n",
              "      <td>88</td>\n",
              "    </tr>\n",
              "    <tr>\n",
              "      <th>25</th>\n",
              "      <td>16-Oct</td>\n",
              "      <td>88</td>\n",
              "    </tr>\n",
              "    <tr>\n",
              "      <th>26</th>\n",
              "      <td>17-Oct</td>\n",
              "      <td>88</td>\n",
              "    </tr>\n",
              "    <tr>\n",
              "      <th>27</th>\n",
              "      <td>18-Oct</td>\n",
              "      <td>88</td>\n",
              "    </tr>\n",
              "  </tbody>\n",
              "</table>\n",
              "</div>"
            ],
            "text/plain": [
              "      DAYS  FOLLOWERS\n",
              "0   21-Sep         76\n",
              "1   22-Sep         76\n",
              "2   23-Sep         76\n",
              "3   24-Sep         76\n",
              "4   25-Sep         76\n",
              "5   26-Sep         77\n",
              "6   27-Sep         77\n",
              "7   28-Sep         78\n",
              "8   29-Sep         78\n",
              "9   30-Sep         79\n",
              "10  01-Oct         79\n",
              "11  02-Oct         81\n",
              "12  03-Oct         81\n",
              "13  04-Oct         81\n",
              "14  05-Oct         82\n",
              "15  06-Oct         82\n",
              "16  07-Oct         82\n",
              "17  08-Oct         82\n",
              "18  09-Oct         86\n",
              "19  10-Oct         87\n",
              "20  11-Oct         87\n",
              "21  12-Oct         87\n",
              "22  13-Oct         87\n",
              "23  14-Oct         87\n",
              "24  15-Oct         88\n",
              "25  16-Oct         88\n",
              "26  17-Oct         88\n",
              "27  18-Oct         88"
            ]
          },
          "execution_count": 46,
          "metadata": {},
          "output_type": "execute_result"
        }
      ]
    },
    {
      "cell_type": "code",
      "metadata": {
        "id": "c605d71e",
        "outputId": "d333a429-2c63-4b9d-ebc1-ad633357ba2f"
      },
      "source": [
        "group_df=group_df.groupby(\"FOLLOWERS\").size()\n",
        "group_df"
      ],
      "id": "c605d71e",
      "execution_count": null,
      "outputs": [
        {
          "data": {
            "text/plain": [
              "FOLLOWERS\n",
              "76    5\n",
              "77    2\n",
              "78    2\n",
              "79    2\n",
              "81    3\n",
              "82    4\n",
              "86    1\n",
              "87    5\n",
              "88    4\n",
              "dtype: int64"
            ]
          },
          "execution_count": 20,
          "metadata": {},
          "output_type": "execute_result"
        }
      ]
    },
    {
      "cell_type": "code",
      "metadata": {
        "id": "819971bb",
        "outputId": "12bbae3c-7f22-43a6-d62f-44a84f8a1608"
      },
      "source": [
        "group_df.plot.pie(subplots=True,figsize=(10,10))"
      ],
      "id": "819971bb",
      "execution_count": null,
      "outputs": [
        {
          "data": {
            "text/plain": [
              "array([<AxesSubplot:ylabel='None'>], dtype=object)"
            ]
          },
          "execution_count": 22,
          "metadata": {},
          "output_type": "execute_result"
        },
        {
          "data": {
            "image/png": "[encoded data removed]",
            "text/plain": [
              "<Figure size 720x720 with 1 Axes>"
            ]
          },
          "metadata": {},
          "output_type": "display_data"
        }
      ]
    },
    {
      "cell_type": "code",
      "metadata": {
        "id": "02bfaab6",
        "outputId": "b4614be4-7db8-4121-8bf7-c9844b0e39c8"
      },
      "source": [
        "df[\"LISTENERS\"].plot.bar(color=\"red\")"
      ],
      "id": "02bfaab6",
      "execution_count": null,
      "outputs": [
        {
          "data": {
            "text/plain": [
              "<AxesSubplot:>"
            ]
          },
          "execution_count": 40,
          "metadata": {},
          "output_type": "execute_result"
        },
        {
          "data": {
            "image/png": "[encoded data removed]",
            "text/plain": [
              "<Figure size 432x288 with 1 Axes>"
            ]
          },
          "metadata": {
            "needs_background": "light"
          },
          "output_type": "display_data"
        }
      ]
    },
    {
      "cell_type": "code",
      "metadata": {
        "id": "39351f68",
        "outputId": "3891086e-cceb-40f1-d378-160a16e914f2"
      },
      "source": [
        "X = df.iloc[3:5,:-1]\n",
        "Y= df.iloc[3:5,-1]\n",
        "print(Y)"
      ],
      "id": "39351f68",
      "execution_count": null,
      "outputs": [
        {
          "name": "stdout",
          "output_type": "stream",
          "text": [
            "3    76\n",
            "4    76\n",
            "Name: FOLLOWERS, dtype: int64\n"
          ]
        }
      ]
    },
    {
      "cell_type": "code",
      "metadata": {
        "id": "cce4f9bc",
        "outputId": "6adc39e0-8248-4f6c-ed57-2c6055db8d7e"
      },
      "source": [
        "#Count the most followers in the last 28 days,\n",
        "# and rank them in descending order.\n",
        "c = df.groupby(\"DAYS\")[\"FOLLOWERS\"].sum()\n",
        "c.sort_values(ascending = False).head(5)"
      ],
      "id": "cce4f9bc",
      "execution_count": null,
      "outputs": [
        {
          "data": {
            "text/plain": [
              "DAYS\n",
              "15-Oct    88\n",
              "18-Oct    88\n",
              "16-Oct    88\n",
              "17-Oct    88\n",
              "10-Oct    87\n",
              "Name: FOLLOWERS, dtype: int64"
            ]
          },
          "execution_count": 35,
          "metadata": {},
          "output_type": "execute_result"
        }
      ]
    },
    {
      "cell_type": "code",
      "metadata": {
        "id": "c16c6e63",
        "outputId": "8ee6d76b-9ce5-41d8-b088-229298c6df28"
      },
      "source": [
        "#unique value\n",
        "df.FOLLOWERS.value_counts().count()"
      ],
      "id": "c16c6e63",
      "execution_count": null,
      "outputs": [
        {
          "data": {
            "text/plain": [
              "9"
            ]
          },
          "execution_count": 25,
          "metadata": {},
          "output_type": "execute_result"
        }
      ]
    },
    {
      "cell_type": "code",
      "metadata": {
        "id": "590b890d",
        "outputId": "51b121f6-69c8-41f2-fdd7-2ef0edd4674a"
      },
      "source": [
        "#calculate how much followers changes increase in total\n",
        "df.FOLLOWERS.nunique()"
      ],
      "id": "590b890d",
      "execution_count": null,
      "outputs": [
        {
          "data": {
            "text/plain": [
              "9"
            ]
          },
          "execution_count": 26,
          "metadata": {},
          "output_type": "execute_result"
        }
      ]
    }
  ]
}