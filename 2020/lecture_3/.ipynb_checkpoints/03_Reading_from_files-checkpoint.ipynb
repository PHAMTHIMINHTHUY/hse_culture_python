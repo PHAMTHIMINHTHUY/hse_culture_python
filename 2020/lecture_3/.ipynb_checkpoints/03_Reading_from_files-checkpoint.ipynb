{
 "cells": [
  {
   "cell_type": "markdown",
   "metadata": {},
   "source": [
    "### Чтение файлов"
   ]
  },
  {
   "cell_type": "markdown",
   "metadata": {},
   "source": [
    "#### Мы достаточно много говорили о переменных, и что они могут быть \"изначально разными\", и др, но на практике этого не видели. Пришла пора."
   ]
  },
  {
   "cell_type": "markdown",
   "metadata": {},
   "source": [
    "В папке с программой лежит файл с входными данными. Прочитаем этот файл как \"список строк\""
   ]
  },
  {
   "cell_type": "code",
   "execution_count": 2,
   "metadata": {},
   "outputs": [
    {
     "name": "stdout",
     "output_type": "stream",
     "text": [
      ",Track.Name,Artist.Name,Genre\n",
      "\n",
      "0,Seсorita,Shawn Mendes,canadian pop\n",
      "\n",
      "1,China,Anuel AA,reggaeton flow\n",
      "\n",
      "2,boyfriend (with Social House),Ariana Grande,dance pop\n",
      "\n",
      "3,Beautiful People (feat. Khalid),Ed Sheeran,pop\n",
      "\n",
      "4,Goodbyes (Feat. Young Thug),Post Malone,dfw rap\n",
      "\n",
      "5,I Don't Care (with Justin Bieber),Ed Sheeran,pop\n",
      "\n",
      "6,Ransom,Lil Tecca,trap music\n",
      "\n",
      "7,How Do You Sleep?,Sam Smith,pop\n",
      "\n",
      "8,Old Town Road - Remix,Lil Nas X,country rap\n",
      "\n",
      "9,bad guy,Billie Eilish,electropop\n",
      "\n",
      "10,Callaita,Bad Bunny,reggaeton\n",
      "\n",
      "11,Loco Contigo (feat. J. Balvin & Tyga),DJ Snake,dance pop\n",
      "\n",
      "12,Someone You Loved,Lewis Capaldi,pop\n",
      "\n",
      "13,Otro Trago - Remix,Sech,panamanian pop\n",
      "\n",
      "14,Money In The Grave (Drake ft. Rick Ross),Drake,canadian hip hop\n",
      "\n",
      "15,No Guidance (feat. Drake),Chris Brown,dance pop\n",
      "\n",
      "16,LA CANCIУN,J Balvin,latin\n",
      "\n",
      "17,Sunflower - Spider-Man: Into the Spider-Verse,Post Malone,dfw rap\n",
      "\n",
      "18,Lalala,Y2K,canadian hip hop\n",
      "\n",
      "19,Truth Hurts,Lizzo,escape room\n",
      "\n",
      "20,Piece Of Your Heart,MEDUZA,pop house\n",
      "\n",
      "21,Panini,Lil Nas X,country rap\n",
      "\n",
      "22,No Me Conoce - Remix,Jhay Cortez,reggaeton flow\n",
      "\n",
      "23,Soltera - Remix,Lunay,latin\n",
      "\n",
      "24,bad guy (with Justin Bieber),Billie Eilish,electropop\n",
      "\n",
      "25,If I Can't Have You,Shawn Mendes,canadian pop\n",
      "\n",
      "26,Dance Monkey,Tones and I,australian pop\n",
      "\n",
      "27,It's You,Ali Gatie,canadian hip hop\n",
      "\n",
      "28,Con Calma,Daddy Yankee,latin\n",
      "\n",
      "29,QUE PRETENDES,J Balvin,latin\n",
      "\n",
      "30,Takeaway,The Chainsmokers,edm\n",
      "\n",
      "31,7 rings,Ariana Grande,dance pop\n",
      "\n",
      "32,0.958333333333333,Maluma,reggaeton\n",
      "\n",
      "33,The London (feat. J. Cole & Travis Scott),Young Thug,atl hip hop\n",
      "\n",
      "34,Never Really Over,Katy Perry,dance pop\n",
      "\n",
      "35,Summer Days (feat. Macklemore & Patrick Stump of Fall Out Boy),Martin Garrix,big room\n",
      "\n",
      "36,Otro Trago,Sech,panamanian pop\n",
      "\n",
      "37,Antisocial (with Travis Scott),Ed Sheeran,pop\n",
      "\n",
      "38,Sucker,Jonas Brothers,boy band\n",
      "\n",
      "39,\"fuck i'm lonely (with Anne-Marie) - from “13 Reasons Why: Season 3”\",Lauv,dance pop\n",
      "\n",
      "40,Higher Love,Kygo,edm\n",
      "\n",
      "41,You Need To Calm Down,Taylor Swift,dance pop\n",
      "\n",
      "42,Shallow,Lady Gaga,dance pop\n",
      "\n",
      "43,Talk,Khalid,pop\n",
      "\n",
      "44,Con Altura,ROSALНA,r&b en espanol\n",
      "\n",
      "45,One Thing Right,Marshmello,brostep\n",
      "\n",
      "46,Te Robarй,Nicky Jam,latin\n",
      "\n",
      "47,Happier,Marshmello,brostep\n",
      "\n",
      "48,Call You Mine,The Chainsmokers,edm\n",
      "\n",
      "49,Cross Me (feat. Chance the Rapper & PnB Rock),Ed Sheeran,pop\n",
      "\n"
     ]
    }
   ],
   "source": [
    "with open('top50.csv', 'r', encoding=\"utf-8\") as f:\n",
    "    for line in f:\n",
    "        print(line)"
   ]
  },
  {
   "cell_type": "markdown",
   "metadata": {},
   "source": [
    "Разберем по порядку. Функция `open` создает буфер обмена, через который данные могут передаваься с физического носителя в память программы. Данная функция возвращает объект для работы с файлом. Первый параметр -- имя файла, второй -- режим работы (`'r'` -- чтение, `'w'` -- запись, `'a'` -- добавление, а так же `'rb'`, `'wb'`, `'ab'` и др.)\n",
    "\n",
    "У этого объекта есть ряд встроенных функций для получения данных. Функция ``readline`` читает по одной строке из оставшихся."
   ]
  },
  {
   "cell_type": "code",
   "execution_count": null,
   "metadata": {},
   "outputs": [],
   "source": [
    "with open('top50.csv', 'r', encoding=\"utf-8\") as f:\n",
    "    print(f\"The first string in file is:\\n\\n{f.readline()}\")\n",
    "    print()\n",
    "    print(f\"The second string in file is:\\n\\n{f.readline()}\")"
   ]
  },
  {
   "cell_type": "markdown",
   "metadata": {},
   "source": [
    "Функция ``read`` позволяет читать весь файл сразу, или информацию посимвольно."
   ]
  },
  {
   "cell_type": "code",
   "execution_count": null,
   "metadata": {},
   "outputs": [],
   "source": [
    "with open('top50.csv', 'r', encoding=\"utf-8\") as f:\n",
    "    print(f.read())"
   ]
  },
  {
   "cell_type": "markdown",
   "metadata": {},
   "source": [
    "**Задание:** прочитать файл ``top50.csv``, разделить его по переходам на новую строку, каждую строку разделить по запятой. Должен получиться список списков."
   ]
  },
  {
   "cell_type": "code",
   "execution_count": null,
   "metadata": {},
   "outputs": [],
   "source": [
    "result = []\n",
    "# your code here"
   ]
  },
  {
   "cell_type": "markdown",
   "metadata": {},
   "source": [
    "Функция *write* записывает объект в файл."
   ]
  },
  {
   "cell_type": "code",
   "execution_count": null,
   "metadata": {},
   "outputs": [],
   "source": [
    "with open(\"top50.tsv\", 'w', encoding=\"utf-8\") as w:\n",
    "    for song, singer, genre in result:\n",
    "        w.write(f\"{song}\\t{singer}\\t{genre}\\n\")"
   ]
  },
  {
   "cell_type": "markdown",
   "metadata": {},
   "source": [
    "**Задание:** (оно вам очень пригодится) Напишите функцию, которая принимает на вход строку с именем файла и строку с разделителем (по умолчанию запятая), читает файл, делит на строки, делит по разделителю и возращает список списков"
   ]
  },
  {
   "cell_type": "code",
   "execution_count": null,
   "metadata": {},
   "outputs": [],
   "source": [
    "# your code here"
   ]
  }
 ],
 "metadata": {
  "kernelspec": {
   "display_name": "Python 3",
   "language": "python",
   "name": "python3"
  },
  "language_info": {
   "codemirror_mode": {
    "name": "ipython",
    "version": 3
   },
   "file_extension": ".py",
   "mimetype": "text/x-python",
   "name": "python",
   "nbconvert_exporter": "python",
   "pygments_lexer": "ipython3",
   "version": "3.6.6"
  }
 },
 "nbformat": 4,
 "nbformat_minor": 1
}
