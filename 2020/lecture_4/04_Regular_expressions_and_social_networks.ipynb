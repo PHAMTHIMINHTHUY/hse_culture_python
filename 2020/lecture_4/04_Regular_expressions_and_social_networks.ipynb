{
 "cells": [
  {
   "cell_type": "markdown",
   "metadata": {},
   "source": [
    "# Регулярные выражения и парсинг социальных сетей"
   ]
  },
  {
   "cell_type": "markdown",
   "metadata": {},
   "source": [
    "## 1. Регулярные выражения\n",
    "\n",
    "Теперь начнем с регулярных выражений. Выучить регулярки можно за 10 минут:"
   ]
  },
  {
   "cell_type": "markdown",
   "metadata": {},
   "source": [
    "переходим **СЮДА**: https://regexone.com/."
   ]
  },
  {
   "cell_type": "markdown",
   "metadata": {},
   "source": [
    "Особым любителям регулярок [сюда](https://alf.nu/RegexGolf).\n",
    "\n",
    "Обязательно к прочтению дома:\n",
    "\n",
    "* [Регулярные выражения, пособие для новичков. Часть 1](https://habr.com/ru/post/115825/)\n",
    "\n",
    "* [Регулярные выражения, пособие для новичков. Часть 2](https://habr.com/ru/post/115436/)\n",
    "\n",
    "* https://ru.wikipedia.org/wiki/Регулярные_выражения"
   ]
  },
  {
   "cell_type": "markdown",
   "metadata": {},
   "source": [
    "Загружаем библиотеку для регулярных выражений:"
   ]
  },
  {
   "cell_type": "code",
   "execution_count": 23,
   "metadata": {},
   "outputs": [],
   "source": [
    "import re"
   ]
  },
  {
   "cell_type": "markdown",
   "metadata": {},
   "source": [
    "Правильный подход к вычислению регулярных выражений длинный и поэтапный:\n",
    "\n",
    " 1. \"Компиляция\" регулярного выражения. На этом этапе \"шаблон\" преобразуется в сложный объект языка, содержащий в себе механизмы эффективного поиска ДАННОГО шаблона.\n",
    " 2. \"Применение\" регулярного выражения к тексту. На этом этапе происходит обработка текста в объекте, созданном в пункте 1. "
   ]
  },
  {
   "cell_type": "markdown",
   "metadata": {},
   "source": [
    "1. Компиляция RE:\n",
    "\n",
    "ничего удивительного, команда `re.compile()`, в скобках передаем само регулярное выражение"
   ]
  },
  {
   "cell_type": "code",
   "execution_count": 39,
   "metadata": {},
   "outputs": [],
   "source": [
    "pattern = re.compile(r\"[А-ЯЁ][а-яё]+\")  # что означает эта регулярка?"
   ]
  },
  {
   "cell_type": "markdown",
   "metadata": {},
   "source": [
    "2. Применение регулярного выражения:"
   ]
  },
  {
   "cell_type": "code",
   "execution_count": 41,
   "metadata": {},
   "outputs": [
    {
     "name": "stdout",
     "output_type": "stream",
     "text": [
      "['Василий', 'Ёван']\n"
     ]
    }
   ],
   "source": [
    "text = \"кот Василий выпил компот, а кот Ёван выпил лимонад\"\n",
    "\n",
    "result = pattern.findall(text)\n",
    "print(result)"
   ]
  },
  {
   "cell_type": "markdown",
   "metadata": {},
   "source": [
    "Все тоже самое можно делать в одну строку:"
   ]
  },
  {
   "cell_type": "code",
   "execution_count": 42,
   "metadata": {},
   "outputs": [
    {
     "name": "stdout",
     "output_type": "stream",
     "text": [
      "['Василий', 'Ёван']\n"
     ]
    }
   ],
   "source": [
    "result2 = re.findall(r\"[А-ЯЁ][а-яё]+\", text)\n",
    "print(result2)"
   ]
  },
  {
   "cell_type": "markdown",
   "metadata": {},
   "source": [
    "Кроме `re.findall()` можно использовать `re.match()`, `re.finditer()`. Их можно изучить самостоятельно [тут](https://habr.com/ru/post/115825/). Мы же с вами рассмотрим автоматическую замену и деление по регулярному выражению."
   ]
  },
  {
   "cell_type": "markdown",
   "metadata": {},
   "source": [
    "1. Замена подстрок, найденных регуляркой на другую подстроку.\n",
    "\n",
    "Команда: `re.sub(\"что заменяем\", \"на что заменяем\", \"где заменяем\")`\n",
    "\n",
    "Например, мы скачали много постов с ссылками и хотим эти ссылки удалить. А в тексте оставить строку \"[здесь была ссылка]\", чтобы мы всегда могли подсчитать, сколько ссылок было изначально."
   ]
  },
  {
   "cell_type": "code",
   "execution_count": 86,
   "metadata": {},
   "outputs": [
    {
     "name": "stdout",
     "output_type": "stream",
     "text": [
      "13 сентября будем ходить ходуном. Прямо  48asd7h во дворе Пауэрхауса. Всё, как обычно, только соскучившись. Новые песни, старые песни. Прыжки и кувырки. Радость и смех.\n",
      "Такое надо в корне пресекать!\n",
      "Билеты: https://sbp4band.ticketscloud.org \n",
      "\n",
      "Пожалуйста, планируйте приобретение билетов заранее. Высока вероятность, что продажа на входе осуществляться не будет\n"
     ]
    }
   ],
   "source": [
    "text = \"\"\"13 сентября будем ходить ходуном. Прямо  48asd7h во дворе Пауэрхауса. Всё, как обычно, только соскучившись. Новые песни, старые песни. Прыжки и кувырки. Радость и смех.\n",
    "Такое надо в корне пресекать!\n",
    "Билеты: https://sbp4band.ticketscloud.org \n",
    "\n",
    "Пожалуйста, планируйте приобретение билетов заранее. Высока вероятность, что продажа на входе осуществляться не будет\"\"\"\n",
    "\n",
    "print(text)"
   ]
  },
  {
   "cell_type": "code",
   "execution_count": 87,
   "metadata": {},
   "outputs": [
    {
     "name": "stdout",
     "output_type": "stream",
     "text": [
      "13 сентября будем ходить ходуном. Прямо  48asd7h во дворе Пауэрхауса. Всё, как обычно, только соскучившись. Новые песни, старые песни. Прыжки и кувырки. Радость и смех.\n",
      "Такое надо в корне пресекать!\n",
      "Билеты:  \n",
      "\n",
      "Пожалуйста, планируйте приобретение билетов заранее. Высока вероятность, что продажа на входе осуществляться не будет\n"
     ]
    }
   ],
   "source": [
    "text = re.sub(r\"https://.+\\b\", \"\", text)\n",
    "\n",
    "print(text)"
   ]
  },
  {
   "cell_type": "markdown",
   "metadata": {},
   "source": [
    "А теперь, наконец-таки, мы научимся ПРАВИЛЬНО делить слова на предложения:"
   ]
  },
  {
   "cell_type": "code",
   "execution_count": 80,
   "metadata": {},
   "outputs": [
    {
     "data": {
      "text/plain": [
       "['',\n",
       " '13 сентября будем ходить ходуном. ',\n",
       " '',\n",
       " 'Прямо во дворе Пауэрхауса. ',\n",
       " '',\n",
       " 'Всё, как обычно, только соскучившись. ',\n",
       " '',\n",
       " 'Новые песни, старые песни. ',\n",
       " '',\n",
       " 'Прыжки и кувырки. ',\n",
       " '',\n",
       " 'Радость и смех.\\n',\n",
       " '',\n",
       " 'Такое надо в корне пресекать!\\n',\n",
       " 'Билеты:  \\n\\n',\n",
       " 'Пожалуйста, планируйте приобретение билетов заранее. ',\n",
       " 'Высока вероятность, что продажа на входе осуществляться не будет']"
      ]
     },
     "execution_count": 80,
     "metadata": {},
     "output_type": "execute_result"
    }
   ],
   "source": [
    "re.split(r\"(.+?[\\.!\\?]{1,}\\s)\", text)"
   ]
  },
  {
   "cell_type": "code",
   "execution_count": 82,
   "metadata": {
    "scrolled": true
   },
   "outputs": [
    {
     "data": {
      "text/plain": [
       "['13 сентября будем ходить ходуном.',\n",
       " 'Прямо во дворе Пауэрхауса.',\n",
       " 'Всё, как обычно, только соскучившись.',\n",
       " 'Новые песни, старые песни.',\n",
       " 'Прыжки и кувырки.',\n",
       " 'Радость и смех.',\n",
       " 'Такое надо в корне пресекать!',\n",
       " 'Билеты:',\n",
       " 'Пожалуйста, планируйте приобретение билетов заранее.',\n",
       " 'Высока вероятность, что продажа на входе осуществляться не будет']"
      ]
     },
     "execution_count": 82,
     "metadata": {},
     "output_type": "execute_result"
    }
   ],
   "source": [
    "[i.strip() for i in re.split(r\"(.+?[\\.!\\?]{1,}\\s)\", text) if i.strip()]"
   ]
  },
  {
   "cell_type": "markdown",
   "metadata": {},
   "source": [
    "_NB! Безусловно, это неидеальная регулярка для деления текста на предложения. Подумайте, как вы можете ее улучшить и какие ситуации она не покрывает?_"
   ]
  },
  {
   "cell_type": "markdown",
   "metadata": {},
   "source": [
    "Существует регулярное выражение, позволяющее делить текст на слова (ну, точнее, находить слова в тексте):"
   ]
  },
  {
   "cell_type": "code",
   "execution_count": 88,
   "metadata": {},
   "outputs": [
    {
     "data": {
      "text/plain": [
       "['13',\n",
       " 'сентября',\n",
       " 'будем',\n",
       " 'ходить',\n",
       " 'ходуном',\n",
       " 'Прямо',\n",
       " '48asd7h',\n",
       " 'во',\n",
       " 'дворе',\n",
       " 'Пауэрхауса',\n",
       " 'Всё',\n",
       " 'как',\n",
       " 'обычно',\n",
       " 'только',\n",
       " 'соскучившись',\n",
       " 'Новые',\n",
       " 'песни',\n",
       " 'старые',\n",
       " 'песни',\n",
       " 'Прыжки',\n",
       " 'и',\n",
       " 'кувырки',\n",
       " 'Радость',\n",
       " 'и',\n",
       " 'смех',\n",
       " 'Такое',\n",
       " 'надо',\n",
       " 'в',\n",
       " 'корне',\n",
       " 'пресекать',\n",
       " 'Билеты',\n",
       " 'Пожалуйста',\n",
       " 'планируйте',\n",
       " 'приобретение',\n",
       " 'билетов',\n",
       " 'заранее',\n",
       " 'Высока',\n",
       " 'вероятность',\n",
       " 'что',\n",
       " 'продажа',\n",
       " 'на',\n",
       " 'входе',\n",
       " 'осуществляться',\n",
       " 'не',\n",
       " 'будет']"
      ]
     },
     "execution_count": 88,
     "metadata": {},
     "output_type": "execute_result"
    }
   ],
   "source": [
    "re.findall(r\"\\w+\", text)"
   ]
  },
  {
   "cell_type": "markdown",
   "metadata": {},
   "source": [
    "**Задание:** напишите регулярное выражение, извлекающее все способы написания фамилии философа:"
   ]
  },
  {
   "cell_type": "code",
   "execution_count": 90,
   "metadata": {},
   "outputs": [],
   "source": [
    "philosophy = \"\"\"Киркегор -датский философ, богослов и писатель, один из предшественников экзистенциализма.\n",
    "С. Кьеркегор окончил теологический факультет Копенгагенского университета в 1840 году. \n",
    "Степень магистра получил в 1841 году, защитив диссертацию “О понятии иронии, с постоянным обращением к Сократу”, посвященную концепциям иронии у древнегреческих авторов и романтиков. \n",
    "Работы С. Кьеркегора отличаются исключительной психологической точностью и глубиной. \n",
    "Вклад в развистие философии, сделанный Кьеркегаардом. неоценим.\n",
    "Сёрен Киркегаард: немецкое издание Сёрена Киркегаарда.\n",
    "Спецкурс “С. Керкегор и история христианства в XIX в.” посвящен датскому философу Серену Керкегору.\"\"\""
   ]
  },
  {
   "cell_type": "code",
   "execution_count": 125,
   "metadata": {},
   "outputs": [
    {
     "data": {
      "text/plain": [
       "['Киркегор',\n",
       " 'Кьеркегор',\n",
       " 'Кьеркегора',\n",
       " 'Кьеркегаардом',\n",
       " 'Киркегаард',\n",
       " 'Киркегаарда',\n",
       " 'Керкегор',\n",
       " 'Керкегору']"
      ]
     },
     "execution_count": 125,
     "metadata": {},
     "output_type": "execute_result"
    }
   ],
   "source": [
    "# your code here\n",
    "# \"К[иеь]е?ркег[оа]{1,2}рд?[уао]?м?\"\n",
    "# \"К[а-яё]+\"\n",
    "# \"К\\w+р\\w+\\b\"\n",
    "# \"К[^о]\\w+\"\n",
    "\n",
    "re.findall(r\"К[^о]\\w+\", philosophy)"
   ]
  },
  {
   "cell_type": "code",
   "execution_count": 1,
   "metadata": {},
   "outputs": [
    {
     "ename": "NameError",
     "evalue": "name 're' is not defined",
     "output_type": "error",
     "traceback": [
      "\u001b[1;31m---------------------------------------------------------------------------\u001b[0m",
      "\u001b[1;31mNameError\u001b[0m                                 Traceback (most recent call last)",
      "\u001b[1;32m<ipython-input-1-687676c042bb>\u001b[0m in \u001b[0;36m<module>\u001b[1;34m\u001b[0m\n\u001b[1;32m----> 1\u001b[1;33m \u001b[1;33m[\u001b[0m\u001b[0mi\u001b[0m\u001b[1;33m[\u001b[0m\u001b[1;36m0\u001b[0m\u001b[1;33m]\u001b[0m \u001b[1;32mfor\u001b[0m \u001b[0mi\u001b[0m \u001b[1;32min\u001b[0m \u001b[0mre\u001b[0m\u001b[1;33m.\u001b[0m\u001b[0mfindall\u001b[0m\u001b[1;33m(\u001b[0m\u001b[1;34m\"(I love (cats|dogs))\"\u001b[0m\u001b[1;33m,\u001b[0m \u001b[1;34m\"I love cats, I love dogs\"\u001b[0m\u001b[1;33m)\u001b[0m\u001b[1;33m]\u001b[0m\u001b[1;33m\u001b[0m\u001b[0m\n\u001b[0m",
      "\u001b[1;31mNameError\u001b[0m: name 're' is not defined"
     ]
    }
   ],
   "source": [
    "[i[0] for i in re.findall(\"(I love (cats|dogs))\", \"I love cats, I love dogs\")]"
   ]
  },
  {
   "cell_type": "markdown",
   "metadata": {},
   "source": [
    "Самая короткая регулярка прибавляет 1 балл ко второй домашке (1 балл из финальных 10, 11 баллов за домашку тоже возможно)"
   ]
  },
  {
   "cell_type": "markdown",
   "metadata": {},
   "source": [
    "#  2. Социальные сети"
   ]
  },
  {
   "cell_type": "markdown",
   "metadata": {},
   "source": [
    "Вернемся к нашим баранам с прошлого семинара:"
   ]
  },
  {
   "cell_type": "markdown",
   "metadata": {},
   "source": [
    "## VK"
   ]
  },
  {
   "cell_type": "code",
   "execution_count": 2,
   "metadata": {},
   "outputs": [],
   "source": [
    "import json\n",
    "import vk"
   ]
  },
  {
   "cell_type": "code",
   "execution_count": 3,
   "metadata": {},
   "outputs": [],
   "source": [
    "token = \"90f384c490f384c490f384c4a39080791d990f390f384c4cf969f9ca0718c325fdf3dfe\"  # Сервисный ключ доступа\n",
    "session = vk.Session(access_token=token)  # Авторизация\n",
    "vk_api = vk.API(session)"
   ]
  },
  {
   "cell_type": "markdown",
   "metadata": {},
   "source": [
    "Под рукой всегда должна быть документация https://vk.com/dev/methods"
   ]
  },
  {
   "cell_type": "markdown",
   "metadata": {},
   "source": [
    "#### Найти участников сообщества:"
   ]
  },
  {
   "cell_type": "code",
   "execution_count": null,
   "metadata": {},
   "outputs": [],
   "source": []
  },
  {
   "cell_type": "code",
   "execution_count": 4,
   "metadata": {},
   "outputs": [],
   "source": [
    "from time import time\n",
    "def get_members(groupid, fields=('sex', 'bdate', 'city', 'country', 'domain')):\n",
    "    first = vk_api.groups.getMembers(group_id=groupid, fields=fields, v=5.92)  # Первое выполнение метода\n",
    "    data = first[\"items\"]  # Присваиваем переменной первую тысячу id'шников\n",
    "    count = first[\"count\"] // 1000  # Присваиваем переменной количество тысяч участников\n",
    "    # С каждым проходом цикла смещение offset увеличивается на тысячу\n",
    "    # и еще тысяча id'шников добавляется к нашему списку.\n",
    "    for i in range(1, count+1):  \n",
    "        data = data + vk_api.groups.getMembers(group_id=groupid, fields=fields, v=5.92, offset=i*1000)[\"items\"]    \n",
    "    time.sleep(3)\n",
    "    return data"
   ]
  },
  {
   "cell_type": "code",
   "execution_count": 6,
   "metadata": {},
   "outputs": [],
   "source": [
    "m = get_members(\"krovostok_official\")"
   ]
  },
  {
   "cell_type": "markdown",
   "metadata": {},
   "source": [
    "#### Выгрузить посты из сообщества:"
   ]
  },
  {
   "cell_type": "code",
   "execution_count": 132,
   "metadata": {},
   "outputs": [],
   "source": [
    "def get_posts(owner_id):\n",
    "    first = vk_api.wall.get(domain=owner_id, count=100, filter=\"owner\", v=5.124)\n",
    "    data = first[\"items\"]  # Присваиваем переменной первую тысячу id'шников\n",
    "    count = first[\"count\"] // 100  # Присваиваем переменной количество тысяч участников\n",
    "    # С каждым проходом цикла смещение offset увеличивается на тысячу\n",
    "    # и еще тысяча id'шников добавляется к нашему списку.\n",
    "    for i in range(1, count+1):  \n",
    "        data += vk_api.wall.get(domain=owner_id, v=5.124, filter=\"owner\", count=100, offset=i*100)[\"items\"]\n",
    "    return [i['text'] for i in data]"
   ]
  },
  {
   "cell_type": "markdown",
   "metadata": {},
   "source": [
    "#### Поиск пабликов по запросу:"
   ]
  },
  {
   "cell_type": "code",
   "execution_count": 144,
   "metadata": {},
   "outputs": [],
   "source": [
    "# https://vkhost.github.io/\n",
    "\n",
    "personal_token = \"380c3137f8f32fe09956adfa376750f3c32aeba4f238baf41f886c86b58cc8f1fb2a3deeed787e79de9cd\"\n",
    "session = vk.Session(access_token=personal_token)  # Авторизация\n",
    "vk_personal_api = vk.API(session)  # Авторизация"
   ]
  },
  {
   "cell_type": "markdown",
   "metadata": {},
   "source": [
    "Обратите внимание — даже при использовании параметра offset для получения информации доступны только первые 1000 результатов."
   ]
  },
  {
   "cell_type": "code",
   "execution_count": 179,
   "metadata": {},
   "outputs": [],
   "source": [
    "def get_groups(query):\n",
    "    first = vk_personal_api.groups.search(q=query, count=1000, type=\"group\", v=5.124)\n",
    "    data = first[\"items\"]  # Присваиваем переменной первую тысячу id'шников\n",
    "    count = first[\"count\"]\n",
    "    return [(i['name'], i['id']) for i in data]"
   ]
  },
  {
   "cell_type": "code",
   "execution_count": 177,
   "metadata": {},
   "outputs": [
    {
     "data": {
      "text/plain": [
       "1000"
      ]
     },
     "execution_count": 177,
     "metadata": {},
     "output_type": "execute_result"
    }
   ],
   "source": [
    "found_groups = get_groups(\"музыка\")\n",
    "len(found_groups)"
   ]
  },
  {
   "cell_type": "markdown",
   "metadata": {},
   "source": [
    "Великолепно. Мы собрали информацию по подписчикам, выгрузили все посты паблика и умеем искать паблики по запросу.\n",
    "\n",
    "Теперь наша задача -- почистить данные с помощью регулярок и сохранить в файлы."
   ]
  },
  {
   "cell_type": "markdown",
   "metadata": {},
   "source": [
    "**Немного про ваш проект:** предполагается, что вы таким образом (или вручную) ищете и находите нужные вам паблики, далее для каждого паблика выгружаете нужную информацию: например, подписчиков (смотрите, из какого они города, их пол и возраст, строите графики) и посты (извлекаете информацию о концертах или об альбомах, клипах, и т.д.)"
   ]
  },
  {
   "cell_type": "markdown",
   "metadata": {},
   "source": [
    "#### 1. get_groups\n",
    "\n",
    "Для начала разберемся с найденным списком групп, сохраним его в файл:"
   ]
  },
  {
   "cell_type": "code",
   "execution_count": 155,
   "metadata": {},
   "outputs": [],
   "source": [
    "my_groups = get_groups(\"французский\")"
   ]
  },
  {
   "cell_type": "code",
   "execution_count": 156,
   "metadata": {},
   "outputs": [],
   "source": [
    "with open(\"found_vk_groups.tsv\", 'w', encoding=\"utf-8\") as f:\n",
    "    for group_name, group_id in my_groups:\n",
    "        f.write(f\"{group_name}\\t{group_id}\\n\")"
   ]
  },
  {
   "cell_type": "markdown",
   "metadata": {},
   "source": [
    "Теперь вы всегда можете его заново открыть и использовать в дальнейшем"
   ]
  },
  {
   "cell_type": "markdown",
   "metadata": {},
   "source": [
    "#### 2. get_members\n",
    "\n",
    "Теперь разберемся с подписчиками"
   ]
  },
  {
   "cell_type": "code",
   "execution_count": 160,
   "metadata": {},
   "outputs": [
    {
     "data": {
      "text/plain": [
       "85492"
      ]
     },
     "execution_count": 160,
     "metadata": {},
     "output_type": "execute_result"
    }
   ],
   "source": [
    "sbp4_members = get_members(\"5722\")\n",
    "len(sbp4_members)"
   ]
  },
  {
   "cell_type": "code",
   "execution_count": 189,
   "metadata": {},
   "outputs": [],
   "source": [
    "with open(\"members.tsv\", 'w', encoding='utf-8') as f:\n",
    "    for member in sbp4_members:\n",
    "        _id = member[\"id\"]\n",
    "        first_name = member[\"first_name\"]\n",
    "        last_name = member[\"last_name\"]\n",
    "        \n",
    "        sex = member[\"sex\"]\n",
    "        if int(sex) == 1:\n",
    "            sex = \"F\"\n",
    "        elif int(sex) == 2:\n",
    "            sex = \"M\"\n",
    "        else:\n",
    "            sex = \"-\"\n",
    "            \n",
    "        bdate = member.get('bdate', \"-\")\n",
    "        if len(bdate.split(\".\")) == 3:\n",
    "            bdate = bdate.split(\".\")[-1]\n",
    "        else:\n",
    "            bdate = \"-\"\n",
    "        \n",
    "        city = member.get('city', {}).get(\"title\", \"-\")\n",
    "        country = member.get('country', {}).get(\"title\", \"-\")\n",
    "        f.write(f\"{_id},\\t{first_name}\\t{last_name}\\t{sex}\\t{bdate}\\t{city}\\t{country}\\n\")"
   ]
  },
  {
   "cell_type": "markdown",
   "metadata": {},
   "source": [
    "#### 3. get_posts"
   ]
  },
  {
   "cell_type": "markdown",
   "metadata": {},
   "source": [
    "и, наконец, с постами"
   ]
  },
  {
   "cell_type": "code",
   "execution_count": 163,
   "metadata": {},
   "outputs": [
    {
     "data": {
      "text/plain": [
       "1110"
      ]
     },
     "execution_count": 163,
     "metadata": {},
     "output_type": "execute_result"
    }
   ],
   "source": [
    "sbp4_posts = get_posts(\"sbp4band\")\n",
    "len(sbp4_posts)"
   ]
  },
  {
   "cell_type": "code",
   "execution_count": 168,
   "metadata": {},
   "outputs": [],
   "source": [
    "# your regexps below\n",
    "http_pattern = re.compile(r\"https://.+\\b\")\n",
    "user_tag_pattern = re.compile(r\"\\[.+?\\]\")"
   ]
  },
  {
   "cell_type": "code",
   "execution_count": 169,
   "metadata": {},
   "outputs": [],
   "source": [
    "def clean_text(text):\n",
    "    \"\"\"\n",
    "    удалить ссылки, удалить отметки пользователей, удалить переводы строк\n",
    "    \"\"\"\n",
    "    text = re.sub(http_pattern, \"WEBLINK\", text)\n",
    "    text = re.sub(user_tag_pattern, \"USERTAG\", text)\n",
    "    text = text.replace(\"\\n\", \" \")\n",
    "    return text"
   ]
  },
  {
   "cell_type": "code",
   "execution_count": 174,
   "metadata": {},
   "outputs": [],
   "source": [
    "with open(\"texts3333.txt\", 'w', encoding=\"utf-8\") as f:\n",
    "    for post in sbp4_posts:\n",
    "        cleaned = clean_text(post)\n",
    "        f.write(cleaned+\"\\n\")"
   ]
  },
  {
   "cell_type": "markdown",
   "metadata": {},
   "source": [
    "**Задание:** Лемматизируйте тексты и запишите их в файл `lemmatized_texts.txt` (каждый пост на отдельной строке):"
   ]
  },
  {
   "cell_type": "code",
   "execution_count": null,
   "metadata": {},
   "outputs": [],
   "source": [
    "def lemmatize_text(text):\n",
    "    m = Mystem()\n",
    "    lemmas = m.lemmatize(text)\n",
    "    lemmatized_text = ''.join(lemmas)\n",
    "    return lemmatized_text"
   ]
  },
  {
   "cell_type": "code",
   "execution_count": null,
   "metadata": {},
   "outputs": [],
   "source": [
    "# your code here"
   ]
  },
  {
   "cell_type": "code",
   "execution_count": null,
   "metadata": {},
   "outputs": [],
   "source": []
  }
 ],
 "metadata": {
  "kernelspec": {
   "display_name": "Python 3",
   "language": "python",
   "name": "python3"
  },
  "language_info": {
   "codemirror_mode": {
    "name": "ipython",
    "version": 3
   },
   "file_extension": ".py",
   "mimetype": "text/x-python",
   "name": "python",
   "nbconvert_exporter": "python",
   "pygments_lexer": "ipython3",
   "version": "3.6.6"
  }
 },
 "nbformat": 4,
 "nbformat_minor": 2
}
