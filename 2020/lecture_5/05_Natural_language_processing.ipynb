{
 "cells": [
  {
   "cell_type": "markdown",
   "metadata": {
    "slideshow": {
     "slide_type": "slide"
    }
   },
   "source": [
    "# 05. Natural Language Processing"
   ]
  },
  {
   "cell_type": "markdown",
   "metadata": {
    "slideshow": {
     "slide_type": "fragment"
    }
   },
   "source": [
    "Сегодня мы с вами все же добрались до самого интересного -- автоматической обработки естественного языка."
   ]
  },
  {
   "cell_type": "markdown",
   "metadata": {
    "slideshow": {
     "slide_type": "slide"
    }
   },
   "source": [
    "## 1. Токенизация"
   ]
  },
  {
   "cell_type": "code",
   "execution_count": 6,
   "metadata": {},
   "outputs": [],
   "source": [
    "from nltk.tokenize import word_tokenize\n",
    "import re"
   ]
  },
  {
   "cell_type": "code",
   "execution_count": 22,
   "metadata": {},
   "outputs": [],
   "source": [
    "text = \"\"\"Привет, друзья! Сегодня в галлерее 11.12 в USERTAG открывается выставка нашего друга художника USERTAG. \n",
    "Вокруг нашей песни “1999” Слава и режиссер Сергей Канчер создали большой проект, посвященный Первой и Второй Чеченским войнам. \n",
    "Это и тотальная инсталляция, и фотографии, и артефакты, и интервью с ветеранами обеих войн и, конечно, видео на песню “1999”, которое вы впервые сможете увидеть на выставке. \n",
    "Это попытка осмыслить жуткий опыт войны. \n",
    "Это попытка вглядеться в то, на что нельзя закрывать глаза. \n",
    "Потому что, даже если отвернуться, то, что произошло, никуда не денется.\"\"\""
   ]
  },
  {
   "cell_type": "code",
   "execution_count": 23,
   "metadata": {},
   "outputs": [
    {
     "name": "stdout",
     "output_type": "stream",
     "text": [
      "['Привет', ',', 'друзья', '!', 'Сегодня', 'в', 'галлерее', '11.12', 'в', 'USERTAG', 'открывается', 'выставка', 'нашего', 'друга', 'художника', 'USERTAG', '.', 'Вокруг', 'нашей', 'песни', '“', '1999', '”', 'Слава', 'и', 'режиссер', 'Сергей', 'Канчер', 'создали', 'большой', 'проект', ',', 'посвященный', 'Первой', 'и', 'Второй', 'Чеченским', 'войнам', '.', 'Это', 'и', 'тотальная', 'инсталляция', ',', 'и', 'фотографии', ',', 'и', 'артефакты', ',', 'и', 'интервью', 'с', 'ветеранами', 'обеих', 'войн', 'и', ',', 'конечно', ',', 'видео', 'на', 'песню', '“', '1999', '”', ',', 'которое', 'вы', 'впервые', 'сможете', 'увидеть', 'на', 'выставке', '.', 'Это', 'попытка', 'осмыслить', 'жуткий', 'опыт', 'войны', '.', 'Это', 'попытка', 'вглядеться', 'в', 'то', ',', 'на', 'что', 'нельзя', 'закрывать', 'глаза', '.', 'Потому', 'что', ',', 'даже', 'если', 'отвернуться', ',', 'то', ',', 'что', 'произошло', ',', 'никуда', 'не', 'денется', '.']\n"
     ]
    }
   ],
   "source": [
    "words_nltk = word_tokenize(text)\n",
    "print(words_nltk)"
   ]
  },
  {
   "cell_type": "markdown",
   "metadata": {},
   "source": [
    "Давайте сравним с токенизатором, написанным вручную (с помощью регулярок)"
   ]
  },
  {
   "cell_type": "code",
   "execution_count": 24,
   "metadata": {},
   "outputs": [
    {
     "name": "stdout",
     "output_type": "stream",
     "text": [
      "['Привет', ',', 'друзья', '!', 'Сегодня', 'в', 'галлерее', '11', '.', '12', 'в', 'USERTAG', 'открывается', 'выставка', 'нашего', 'друга', 'художника', 'USERTAG', '.', 'Вокруг', 'нашей', 'песни', '“1999”', 'Слава', 'и', 'режиссер', 'Сергей', 'Канчер', 'создали', 'большой', 'проект', ',', 'посвященный', 'Первой', 'и', 'Второй', 'Чеченским', 'войнам', '.', 'Это', 'и', 'тотальная', 'инсталляция', ',', 'и', 'фотографии', ',', 'и', 'артефакты', ',', 'и', 'интервью', 'с', 'ветеранами', 'обеих', 'войн', 'и', ',', 'конечно', ',', 'видео', 'на', 'песню', '“1999”', ',', 'которое', 'вы', 'впервые', 'сможете', 'увидеть', 'на', 'выставке', '.', 'Это', 'попытка', 'осмыслить', 'жуткий', 'опыт', 'войны', '.', 'Это', 'попытка', 'вглядеться', 'в', 'то', ',', 'на', 'что', 'нельзя', 'закрывать', 'глаза', '.', 'Потому', 'что', ',', 'даже', 'если', 'отвернуться', ',', 'то', ',', 'что', 'произошло', ',', 'никуда', 'не', 'денется', '.']\n"
     ]
    }
   ],
   "source": [
    "words_re = [i.strip() for i in re.split(r\"([ \\.\\?!,]{1,})\", text) if i.strip()]\n",
    "print(words_re)"
   ]
  },
  {
   "cell_type": "code",
   "execution_count": 25,
   "metadata": {},
   "outputs": [
    {
     "data": {
      "text/plain": [
       "False"
      ]
     },
     "execution_count": 25,
     "metadata": {},
     "output_type": "execute_result"
    }
   ],
   "source": [
    "words_nltk == words_re"
   ]
  },
  {
   "cell_type": "code",
   "execution_count": 29,
   "metadata": {},
   "outputs": [
    {
     "data": {
      "text/plain": [
       "{'11.12', '1999', '“', '”'}"
      ]
     },
     "execution_count": 29,
     "metadata": {},
     "output_type": "execute_result"
    }
   ],
   "source": [
    "# Как проверить, в чем отличие?\n",
    "\n",
    "set(words_nltk) - set(words_re)"
   ]
  },
  {
   "cell_type": "markdown",
   "metadata": {},
   "source": [
    "## 2. Деление на предложения"
   ]
  },
  {
   "cell_type": "code",
   "execution_count": 30,
   "metadata": {},
   "outputs": [],
   "source": [
    "from nltk.tokenize import sent_tokenize"
   ]
  },
  {
   "cell_type": "code",
   "execution_count": 39,
   "metadata": {},
   "outputs": [
    {
     "name": "stdout",
     "output_type": "stream",
     "text": [
      "['13 сентября будем ходить ходуном.', 'Прямо во дворе Пауэрхауса.', 'Всё, как обычно, только соскучившись.', 'Новые песни, старые песни.', 'Прыжки и кувырки.', 'Радость и смех.', 'Такое надо в корне пресекать!', 'Билеты: https://sbp4band.ticketscloud.org\\n\\nПожалуйста, планируйте приобретение билетов заранее.', 'Высока вероятность, что продажа на входе осуществляться не будет']\n"
     ]
    }
   ],
   "source": [
    "sentences_nltk = sent_tokenize(text)\n",
    "print(sentences_nltk)"
   ]
  },
  {
   "cell_type": "code",
   "execution_count": 40,
   "metadata": {},
   "outputs": [
    {
     "name": "stdout",
     "output_type": "stream",
     "text": [
      "['13 сентября будем ходить ходуном.', 'Прямо во дворе Пауэрхауса.', 'Всё, как обычно, только соскучившись.', 'Новые песни, старые песни.', 'Прыжки и кувырки.', 'Радость и смех.', 'Такое надо в корне пресекать!', 'Билеты: https://sbp4band.ticketscloud.org', 'Пожалуйста, планируйте приобретение билетов заранее.', 'Высока вероятность, что продажа на входе осуществляться не будет']\n"
     ]
    }
   ],
   "source": [
    "sentences_re = [i.strip() for i in re.split(r\"(.+?[\\.!\\?]{1,}\\s)\", text) if i.strip()]\n",
    "print(sentences_re)"
   ]
  },
  {
   "cell_type": "code",
   "execution_count": 41,
   "metadata": {},
   "outputs": [
    {
     "data": {
      "text/plain": [
       "False"
      ]
     },
     "execution_count": 41,
     "metadata": {},
     "output_type": "execute_result"
    }
   ],
   "source": [
    "sentences_nltk == sentences_re"
   ]
  },
  {
   "cell_type": "markdown",
   "metadata": {},
   "source": [
    "А если взять наш старый текст, посложнее?"
   ]
  },
  {
   "cell_type": "code",
   "execution_count": 42,
   "metadata": {},
   "outputs": [],
   "source": [
    "text = \"\"\"13 сентября будем ходить ходуном. Прямо во дворе Пауэрхауса. Всё, как обычно, только соскучившись. Новые песни, старые песни. Прыжки и кувырки. Радость и смех.\n",
    "Такое надо в корне пресекать!\n",
    "Билеты: https://sbp4band.ticketscloud.org\n",
    "\n",
    "Пожалуйста, планируйте приобретение билетов заранее. Высока вероятность, что продажа на входе осуществляться не будет\"\"\"\n"
   ]
  },
  {
   "cell_type": "code",
   "execution_count": 43,
   "metadata": {},
   "outputs": [
    {
     "name": "stdout",
     "output_type": "stream",
     "text": [
      "['13 сентября будем ходить ходуном.', 'Прямо во дворе Пауэрхауса.', 'Всё, как обычно, только соскучившись.', 'Новые песни, старые песни.', 'Прыжки и кувырки.', 'Радость и смех.', 'Такое надо в корне пресекать!', 'Билеты: https://sbp4band.ticketscloud.org\\n\\nПожалуйста, планируйте приобретение билетов заранее.', 'Высока вероятность, что продажа на входе осуществляться не будет']\n"
     ]
    }
   ],
   "source": [
    "sentences_nltk = sent_tokenize(text)\n",
    "print(sentences_nltk)"
   ]
  },
  {
   "cell_type": "code",
   "execution_count": 44,
   "metadata": {},
   "outputs": [
    {
     "name": "stdout",
     "output_type": "stream",
     "text": [
      "['13 сентября будем ходить ходуном.', 'Прямо во дворе Пауэрхауса.', 'Всё, как обычно, только соскучившись.', 'Новые песни, старые песни.', 'Прыжки и кувырки.', 'Радость и смех.', 'Такое надо в корне пресекать!', 'Билеты: https://sbp4band.ticketscloud.org', 'Пожалуйста, планируйте приобретение билетов заранее.', 'Высока вероятность, что продажа на входе осуществляться не будет']\n"
     ]
    }
   ],
   "source": [
    "sentences_re = [i.strip() for i in re.split(r\"(.+?[\\.!\\?]{1,}\\s)\", text) if i.strip()]\n",
    "print(sentences_re)"
   ]
  },
  {
   "cell_type": "code",
   "execution_count": 45,
   "metadata": {},
   "outputs": [
    {
     "data": {
      "text/plain": [
       "False"
      ]
     },
     "execution_count": 45,
     "metadata": {},
     "output_type": "execute_result"
    }
   ],
   "source": [
    "sentences_nltk == sentences_re"
   ]
  },
  {
   "cell_type": "markdown",
   "metadata": {},
   "source": [
    "_NB! иногда ваш код может быть лучше чего-то готового_ "
   ]
  },
  {
   "cell_type": "markdown",
   "metadata": {},
   "source": [
    "## 3. Лемматизация"
   ]
  },
  {
   "cell_type": "code",
   "execution_count": 46,
   "metadata": {},
   "outputs": [],
   "source": [
    "from pymystem3 import Mystem"
   ]
  },
  {
   "cell_type": "code",
   "execution_count": null,
   "metadata": {},
   "outputs": [],
   "source": [
    "!pip install pymystem3"
   ]
  },
  {
   "cell_type": "code",
   "execution_count": 49,
   "metadata": {},
   "outputs": [],
   "source": [
    "def lemmatize_text(text):\n",
    "    m = Mystem()\n",
    "    lemmas = m.lemmatize(text)\n",
    "    lemmatized_text = ''.join(lemmas)\n",
    "    return lemmatized_text"
   ]
  },
  {
   "cell_type": "code",
   "execution_count": 50,
   "metadata": {},
   "outputs": [
    {
     "data": {
      "text/plain": [
       "'13 сентябрь быть ходить ходуном. прямо во двор пауэрхауса. все, как обычно, только соскучиться. новый песня, старый песня. прыжок и кувырок. радость и смех.\\nтакой надо в корень пресекать!\\nбилет: https://sbp4band.ticketscloud.org\\n\\nпожалуйста, планировать приобретение билет заранее. высокий вероятность, что продажа на вход осуществляться не быть\\n'"
      ]
     },
     "execution_count": 50,
     "metadata": {},
     "output_type": "execute_result"
    }
   ],
   "source": [
    "lemmatize_text(text)"
   ]
  },
  {
   "cell_type": "markdown",
   "metadata": {},
   "source": [
    "# НАТАААШАААА\n",
    "\n",
    "https://github.com/natasha/natasha"
   ]
  },
  {
   "cell_type": "markdown",
   "metadata": {},
   "source": [
    "![natasha](https://www.meme-arsenal.com/memes/f3c9f08ab239e223f48647b2826a1538.jpg)"
   ]
  },
  {
   "cell_type": "code",
   "execution_count": null,
   "metadata": {},
   "outputs": [],
   "source": [
    "!pip install natasha"
   ]
  },
  {
   "cell_type": "code",
   "execution_count": 1,
   "metadata": {},
   "outputs": [],
   "source": [
    "from natasha import (Segmenter, MorphVocab, NewsEmbedding, \n",
    "NewsMorphTagger, NewsSyntaxParser, NewsNERTagger, PER, NamesExtractor, Doc)"
   ]
  },
  {
   "cell_type": "code",
   "execution_count": 2,
   "metadata": {},
   "outputs": [],
   "source": [
    "segmenter = Segmenter()\n",
    "morph_vocab = MorphVocab()\n",
    "emb = NewsEmbedding()\n",
    "morph_tagger = NewsMorphTagger(emb)\n",
    "syntax_parser = NewsSyntaxParser(emb)\n",
    "ner_tagger = NewsNERTagger(emb)\n",
    "names_extractor = NamesExtractor(morph_vocab)"
   ]
  },
  {
   "cell_type": "code",
   "execution_count": 31,
   "metadata": {},
   "outputs": [],
   "source": [
    "doc = Doc(\"выговорил Алексей Турбин, причем кровь потекла у него изо рта на подбородок, а голос начал вытекать по капле, слабея на каждом слове,\")\n",
    "doc.segment(segmenter)"
   ]
  },
  {
   "cell_type": "code",
   "execution_count": 32,
   "metadata": {},
   "outputs": [
    {
     "data": {
      "text/plain": [
       "['выговорил Алексей Турбин, причем кровь потекла у него изо рта на подбородок, а голос начал вытекать по капле, слабея на каждом слове,']"
      ]
     },
     "execution_count": 32,
     "metadata": {},
     "output_type": "execute_result"
    }
   ],
   "source": [
    "[i.text for i in doc.sents]"
   ]
  },
  {
   "cell_type": "code",
   "execution_count": 33,
   "metadata": {},
   "outputs": [
    {
     "name": "stdout",
     "output_type": "stream",
     "text": [
      "['выговорил', 'Алексей', 'Турбин', ',', 'причем', 'кровь', 'потекла', 'у', 'него', 'изо', 'рта', 'на', 'подбородок', ',', 'а', 'голос', 'начал', 'вытекать', 'по', 'капле', ',', 'слабея', 'на', 'каждом', 'слове', ',']\n"
     ]
    }
   ],
   "source": [
    "print([i.text for i in doc.tokens])"
   ]
  },
  {
   "cell_type": "code",
   "execution_count": 34,
   "metadata": {},
   "outputs": [
    {
     "name": "stdout",
     "output_type": "stream",
     "text": [
      "DocToken(stop=9, text='выговорил', pos='NOUN', feats=<Anim,Nom,Masc,Sing>)\n",
      "DocToken(start=10, stop=17, text='Алексей', pos='PROPN', feats=<Anim,Nom,Masc,Sing>)\n",
      "DocToken(start=18, stop=24, text='Турбин', pos='PROPN', feats=<Anim,Nom,Masc,Sing>)\n",
      "DocToken(start=24, stop=25, text=',', pos='PUNCT')\n",
      "DocToken(start=26, stop=32, text='причем', pos='CCONJ')\n",
      "DocToken(start=33, stop=38, text='кровь', pos='NOUN', feats=<Inan,Nom,Fem,Sing>)\n",
      "DocToken(start=39, stop=46, text='потекла', pos='VERB', feats=<Perf,Fem,Ind,Sing,Past,Fin,Act>)\n",
      "DocToken(start=47, stop=48, text='у', pos='ADP')\n",
      "DocToken(start=49, stop=53, text='него', pos='PRON', feats=<Gen,Masc,Sing,3>)\n",
      "DocToken(start=54, stop=57, text='изо', pos='ADP')\n",
      "DocToken(start=58, stop=61, text='рта', pos='NOUN', feats=<Inan,Gen,Masc,Sing>)\n",
      "DocToken(start=62, stop=64, text='на', pos='ADP')\n",
      "DocToken(start=65, stop=75, text='подбородок', pos='NOUN', feats=<Inan,Acc,Masc,Sing>)\n",
      "DocToken(start=75, stop=76, text=',', pos='PUNCT')\n",
      "DocToken(start=77, stop=78, text='а', pos='CCONJ')\n",
      "DocToken(start=79, stop=84, text='голос', pos='NOUN', feats=<Inan,Nom,Masc,Sing>)\n",
      "DocToken(start=85, stop=90, text='начал', pos='VERB', feats=<Perf,Masc,Ind,Sing,Past,Fin,Act>)\n",
      "DocToken(start=91, stop=99, text='вытекать', pos='VERB', feats=<Imp,Inf,Act>)\n",
      "DocToken(start=100, stop=102, text='по', pos='ADP')\n",
      "DocToken(start=103, stop=108, text='капле', pos='NOUN', feats=<Inan,Dat,Fem,Sing>)\n",
      "DocToken(start=108, stop=109, text=',', pos='PUNCT')\n",
      "DocToken(start=110, stop=116, text='слабея', pos='VERB', feats=<Perf,Past,Conv,Mid>)\n",
      "DocToken(start=117, stop=119, text='на', pos='ADP')\n",
      "DocToken(start=120, stop=126, text='каждом', pos='DET', feats=<Loc,Neut,Sing>)\n",
      "DocToken(start=127, stop=132, text='слове', pos='NOUN', feats=<Inan,Loc,Neut,Sing>)\n",
      "DocToken(start=132, stop=133, text=',', pos='PUNCT')\n"
     ]
    }
   ],
   "source": [
    "doc.tag_morph(morph_tagger)\n",
    "for token in doc.tokens:\n",
    "    print(token)\n",
    "    token.lemmatize(morph_vocab)"
   ]
  },
  {
   "cell_type": "code",
   "execution_count": 35,
   "metadata": {},
   "outputs": [
    {
     "name": "stdout",
     "output_type": "stream",
     "text": [
      "['выговорить', 'алексей', 'турбин', ',', 'причем', 'кровь', 'потечь', 'у', 'он', 'из', 'рот', 'на', 'подбородок', ',', 'а', 'голос', 'начать', 'вытекать', 'по', 'капля', ',', 'слабеть', 'на', 'каждый', 'слово', ',']\n"
     ]
    }
   ],
   "source": [
    "c"
   ]
  },
  {
   "cell_type": "markdown",
   "metadata": {},
   "source": [
    "## 4. Извлечение именованных сущностей"
   ]
  },
  {
   "cell_type": "markdown",
   "metadata": {},
   "source": [
    "Нуууу.... может Наташа хотя бы имена выделять умеет? или города/места?"
   ]
  },
  {
   "cell_type": "markdown",
   "metadata": {},
   "source": [
    "PER = person\n",
    "\n",
    "LOC = location\n",
    "\n",
    "ORG = organization"
   ]
  },
  {
   "cell_type": "code",
   "execution_count": 36,
   "metadata": {},
   "outputs": [],
   "source": [
    "doc.tag_ner(ner_tagger)"
   ]
  },
  {
   "cell_type": "code",
   "execution_count": 37,
   "metadata": {},
   "outputs": [
    {
     "data": {
      "text/plain": [
       "[DocSpan(start=10, stop=24, type='PER', text='Алексей Турбин', tokens=[...])]"
      ]
     },
     "execution_count": 37,
     "metadata": {},
     "output_type": "execute_result"
    }
   ],
   "source": [
    "doc.spans"
   ]
  },
  {
   "cell_type": "code",
   "execution_count": 39,
   "metadata": {},
   "outputs": [
    {
     "name": "stdout",
     "output_type": "stream",
     "text": [
      "10 24 PER\n"
     ]
    }
   ],
   "source": [
    "for span in doc.spans:\n",
    "    print(span.start, span.stop, span.type)"
   ]
  },
  {
   "cell_type": "markdown",
   "metadata": {},
   "source": [
    "давайте не будем отчаиваться и попробуем найти все места / локации во всех текстах:"
   ]
  },
  {
   "cell_type": "code",
   "execution_count": 68,
   "metadata": {},
   "outputs": [],
   "source": [
    "locations = set()\n",
    "persons = set()\n",
    "organizations = set()\n",
    "\n",
    "with open(\"texts.txt\", 'r', encoding=\"utf-8\") as f:\n",
    "    for line in f:\n",
    "        text = line.strip()\n",
    "        \n",
    "        doc = Doc(text)\n",
    "        doc.segment(segmenter)\n",
    "        doc.tag_morph(morph_tagger)\n",
    "        doc.tag_ner(ner_tagger)\n",
    "        \n",
    "        for span in doc.spans:\n",
    "            span.normalize(morph_vocab)\n",
    "        \n",
    "            if span.type == 'LOC':\n",
    "                locations.add(span.normal)\n",
    "            \n",
    "            elif span.type == 'PER':\n",
    "                persons.add(span.normal)\n",
    "            \n",
    "            elif span.type == 'ORG':\n",
    "                organizations.add(span.normal)"
   ]
  },
  {
   "cell_type": "code",
   "execution_count": 69,
   "metadata": {},
   "outputs": [
    {
     "name": "stdout",
     "output_type": "stream",
     "text": [
      "{'Белорусы', 'Санкт-Петербург', 'Киев', 'Волгоград', 'Comprendo (WEBLINK)', 'Фонтанная Площадь', 'Мишка', 'Томск', 'Красноярск (USERTAG)', 'Новосибирск', 'Запорожье', 'Петебург', 'Подольск', 'Волжском', 'Нижний Новгород', 'Александринка', 'Норвегия', 'Манежная площадь', 'Омск (USERTAG)', 'Уфа', 'Лондон', 'Африка', 'Николо-Ленивец', 'Одесса', 'Тверская улица', 'Петербург', 'Арт-завод Механик', 'Сочи', 'Калининград', 'Энтузиаст', 'Москва (USERTAG)', 'Барнаул', 'Осиновецкий маяк', 'Сибирь', 'Нижний Новгород (USERTAG)', 'Соль', 'Пятницкая', 'Беларусь', 'Рэд', 'Чечня', 'Вагонка', 'Столешникова переулок', 'Челябинск', 'Москва', 'Горохова', 'Днепропетровск', 'Пермь', 'Нижний Нооооооооовгороооооод', 'Йоу', 'Томск (USERTAG)', 'Тверская', 'Орел', 'Тольятти', 'Рихтер', 'Винзавод', 'Горький', 'АкадемГородок', 'Ростов', 'Улан-Удэ', 'Урал', 'КИЕВ', 'Ростов-на-Дону', 'Омск', 'Новосибирск (USERTAG)', 'Липецк', 'Маяковская', 'Васильевский остров', 'Красноярск', 'Калуга', 'Воронеж', 'ЮАР', 'Минск', 'Пляцоўка Hall WEBLINK', 'Хельсинки', 'Елагин остров', 'Пулковский парк', 'Елагином остров', 'Самара', 'Днепр', 'Марий Эл', 'Танцплощадка', 'Пекин', 'Афиша-Волна', 'Казань', 'Кемерово', 'Тула', 'МОСКВА', 'Меги', 'Вильнюс', 'Минск (USERTAG)', 'Стрелка', 'Юг', 'Австралия', 'Львов', 'Севкабель', 'Англия', 'Столешников пер', 'Бухарест', 'Прибалтика', 'Академгородок', 'Свет', 'Ораниенбаум', 'Сулимовка', 'Нижний', 'Солянка', 'Америка', 'Южная Африка', 'Екатеринбург', 'Новая Голландия', 'Сколково', 'Танцплощадке', 'Эма', 'Море', 'Краснодар', 'Вчера', 'Донецк', 'Рига', 'Эме', 'Владимирский', 'Харьков', 'Чайна-таун', 'Пресненский Вал', 'Ижевск', 'Питер', 'Украина', 'Встречайте', 'Блокада', 'Сардаял', 'Новосибирский академгородок', 'Мурманск', 'Саратов', 'Коломенское', 'Ульяновск', 'Музеон', 'Гана', 'Архангельск', 'Краснодарский край', 'Самара (USERTAG)', 'Кейптаун', 'Волжский', 'Цоколь', 'Россия', 'Петровка', 'Главклуб', 'Земля', 'Пермь (USERTAG)', 'Ленинград'}\n"
     ]
    }
   ],
   "source": [
    "print(locations)"
   ]
  },
  {
   "cell_type": "code",
   "execution_count": 70,
   "metadata": {},
   "outputs": [
    {
     "name": "stdout",
     "output_type": "stream",
     "text": [
      "{'Елочные Игрушка', 'Марфу Кожевников', 'Алена Фалько', 'А-р-р-р-р-р', 'Олег Нестеров', 'Большущее', 'Денис Бояринов', 'Федука', 'Мишка', 'Ирина Саминская', 'Наадя', 'Ростиславу Кундику', 'Джаспер', 'Надя Косян', 'Сергей Степанов', 'Михаил Ильин', 'Лиза Сидоренко', 'Юля Русановых', 'Женю Борзых', 'Александр Матухно', 'Женю Рыбалко', 'Иван Клушин', 'Маша Эм', 'Хэллоу', 'Тима Балдин', 'Кранодар', 'Миша Ильин', 'Илья', 'София Туроль', 'Суперновость', 'Пауэрхаус', 'Лена Лелинову', 'Паша Вардишвили', 'Баритон-саксофон', 'Ольга', 'Катя', 'Михаил Выборный', 'Томас', 'Налетай', 'Андрей Макаревич', 'Игорь Бердников', 'Эрарта', 'Ром USERTAG', 'Андрей Митрошин', 'Сашу Аммосов', 'Петр Стромина', 'Миша Михайлов', 'Вотсап-вотсап', 'Олеся Колабаеву', 'Па', 'Илья Барамия', 'Сашу Чуркин', 'Андрей Вальдберг', 'Егор Максимов', 'Ребзя', 'Евгений Крылатов', 'Катя Стовбур', 'Дима Иванов', 'Лисичка', 'Слив', 'Любовь Аркус', 'Богдан Татаренко', 'Антон Курильчик', 'Олег Глушков', 'Михаил Ципорин', 'Ольга Страховская', 'Валерия Коган', 'Сталин', 'Хо-хо-хо', 'Юрий Энтина', 'Маша Демьянова', 'Шок–интервью', 'Олег', 'Соню Воронину', 'Антон Михайловского', 'Афекса Твина', 'Надя Грицкевич', 'Филипп Дзядко', 'Давид', 'Ростов-он-Дон', 'Евгения Борзых', 'Антон Гумен', 'Полина Кириленко', 'Вези', 'Игорь Грибков', 'Антон Михайловский', 'Спевшие', 'Жени Борзых', 'Та-дам', 'Иван Белаш', 'Сашу Андерсон', 'Павел Самохвалов', 'Антон Анатолиевич Мальцев', 'Конан О’Брайен', 'Карина Бидюк', 'Аня Дарман', 'Ррррррррррр', 'Женя Онегина', 'Ева', 'Вера Агафонникову', 'Чекираут', 'Хей', 'Роза Хутор', 'Женька', 'Анастасия Сверкунова', 'Максим Мошкин', 'Пес', 'Катя Штарева', 'Паша', 'Дмитрий Суворов', 'Аглаи Демиденко', 'Михаил Григорьев', 'Евгения Остроумова', 'Саши Зайцев', 'Ирина Белоус', 'Диана Арбенина', 'Добрынин', 'Рррррррррр', 'Сашу Гудков', 'Космонавт WEBLINK', 'Йоу', 'Сергей Канчер', 'Наири', 'Гриша', 'Антон Хабибулин', 'Рихтер', 'Алексей Киселев', 'Даня', 'Валерий Белобеев', 'Алина Сапрыкина', 'Дмитрий Фадеев', 'Хей-хо', 'Алексей Мунипов', 'Антон', 'Дмитрий Повалишин', 'Евгений Трифонов', 'Алексей Карпенко', 'Никита Онисенко', 'Станислав Зельвенский', 'Тим Балдин', 'Коллеони', 'Саша', 'Касииопея', 'Женю Ваничев', 'Гифка', 'Татьяна Страмнова', 'Миша Мост', 'Артемий Троицкий', 'Василий Санюк', 'Калиниград', 'Дима Зайцев', 'Кирилл Авраменко', 'Катя Тачкову', 'Матвей Коровин', 'Максим Семеляк', 'Виктория Щечка', 'Слава', 'Бдыщ', 'Дима', 'Игорь Татарников', 'Елочные Игрушки', 'Мозг', 'Лидия Маслова', 'Кусайте', 'Взвешен', 'Максим Колодиец', 'Алексей Савкин', 'Гоголь', 'Лемондэй', 'Ольга Мещерякова', 'Анна Слоникова', 'Настя Коломенская', 'Ян Шалину', 'Нарисуйте', 'Марина Петрова', 'Женей Борзых', 'Михаил Брашинский', 'Баратынский', 'Серафим Григорьев', 'Лопни', 'Екатерина Щербатенко', 'Кирилл Иванов', 'Марина Баринову', 'Маша Гонтарь', 'Сергей Соколов', 'План-А', 'Олег Занин', 'Майк', 'Лере Коган', 'Марк Боярский', 'Толмачев', 'Саши', 'Алена Лобанова', 'Дэвид макфадьен', 'Пиу', 'Оксана Ласкина', 'Москв', 'Максим Погоржельский', 'Сергей Соловьев', 'Илья Красильщик', 'Кирилл Умрихин', 'Юля Кискину', 'Наадя Грицкевич', 'Евгений Силаев', 'Айда', 'Кирилл Умирихин', 'Константин Мурзенко', 'Таня Муиньо', 'Олег Рикота', 'Леденящий', 'Достоевский', 'Ксения Дремина', 'Женя Борзых', 'Паша Самохвалов', 'Женя Гудков', 'Тане Пантелеева', 'Борис Андрианов', 'Женя Анисимов', 'Вауч', 'Олег Фионик', 'Путин', 'Лиза', 'Ольга Шелест', 'Пшшшшш', 'Юра Хоя', 'Алексей Калабин', 'Ксения Болотову', 'Stereobeaver\\ufeff', 'Тим Яржомбек', 'Надежда Ворожейкина', 'Сашу Сколкова', 'Лиза Загряжскую', 'Соскучались', 'Филипп Трапезников', 'Max Startsev)', 'Стасов', 'Рубальской', 'Непрошенная', 'Саша Липский', 'Концерт-презентация', 'Матисс', 'Соня Карпунина', 'Дэниел Джаспер', 'Паша Артемьев', 'У-у-у-у-у', 'Сабина Алиеву', 'Дима Японец', 'Татьяна Долматовская', 'Вартану Мартыняну', 'Юля Майорова', 'Чек-чек', 'Вася', 'Соня Мунтян', 'Виктор Бойко', 'Миша Ганнушкин', 'Женя Аэрохоккей', 'Игорь Вдовин', 'Борзых', 'Olga Kuraeva)', 'Галя Чикисс', 'Настя Блашенкову', 'Любовь Инжутову', 'Макару Кобельскому', 'Катя Волкову', 'Анна Холина', 'Ксюша Рябокінь', 'Кристина Орбакайте', 'Варя Алешкевич', 'Мемомузыка', 'Бахтин', 'Олег Солдатов', 'Кирилл', 'Иванов', 'Сашу Барановскую', 'Роман Быховец', 'Ольга Берковская', 'Антоху Хабибулин', 'Александр Модуль', 'Занимайте', 'Эжена Быков', 'Маша Старостину', 'Саша Кулак', 'Ире Галушкиной', 'Романович', 'Дмитрий Колдун', 'Таня Мальцева', 'Анар Шилов', 'Алена Долбик', 'Игорь', 'Полина Гутовскую', 'Стас', 'Жжжж', 'Вера Благодарев', 'Максим', 'Лиза Аксенову', 'Надежна Лапшин', 'Андрей Артемов', 'Жени', 'Александр Гудков', 'Оля Закревская', 'Кирилл Замышляев', 'Сашу Никитину', 'Феликс Данкевич', 'Нигины Сайфуллаевой', 'Юлия Рыженко', 'Роза Хайруллина', 'Матвей Ильющенко', 'Вадик', 'Сашу Шумилину', 'Артем Кошкин', 'Катя Волкова', 'Гали Чикис', 'Елена Спектор', 'Виолетте Ополовниковой', 'Миша Григорьев', 'Гетап-стендап', 'Денис Синельщиков', 'Дмитрий Семенушкин', 'КИРИЛЛ ИВАНОВ', 'Василису Усманов', 'Соня', 'Та-да-ам', 'Надя', 'Медвежонок', 'Женя', 'Саша Исакова', 'Игорь Содазот', 'Главклуб', 'Паутиныч'}\n"
     ]
    }
   ],
   "source": [
    "print(persons)"
   ]
  },
  {
   "cell_type": "code",
   "execution_count": 71,
   "metadata": {},
   "outputs": [
    {
     "name": "stdout",
     "output_type": "stream",
     "text": [
      "{'Coub', 'Филармонии', 'Guvera', 'OPTIMYSTICA ORCHESTRA', 'ИЗО', 'WEBLINK', 'Серебряный дождь', 'Гараж', 'OpenSpace.ru', 'Известия Hall!', 'СКОРО', 'Дом Печати', 'Наадя', 'Танцплощадки', 'Дождь', 'Известия 25/5', 'Премьера', 'Numéro', 'НИУ ВШЭ', 'Adrenaline Stadium', 'Москва 24', 'Электротеатр', 'Kirill Ivanov', 'Motherland', 'Red WEBLINK', 'Кафе Artefaq', 'Vinylbox', 'Polymedia', 'La Boule', 'Галерея', 'Rocks Cafe', 'Газетный Live WEBLINK', 'ВСЕ!', 'Arena Hall Air 📸', 'Spotify', 'Kito Jempere', 'Эрарта', 'Red!', 'Дом Культура', 'Библионочь', '@Мастерская', 'Instagram', 'GooglePlay', 'Сад \"Эрмитаж', 'Афиши', 'ArteFAQ', 'DZA', 'Apple Music', 'SBP', 'Oh My', 'Lenovo', 'OP-1', 'RED club WEBLINK', 'USERTAGНижний НовгородUSERTAG', 'Volna Records', 'РБК', 'Пес и группа', 'Sputnik', 'Femi Koya', 'Африка', 'Дом Печать', 'Стереолето', 'Снегири', 'Krjuk', 'Vimeo\\u200b', 'Lenta.ru', 'Музей уличное искусство', 'Стереолет', 'Бочка', 'Blum', 'Фонтанка', 'Суперкит', 'YouTube Music Hotlist', 'Google', 'GQ', 'Interview', 'Пикник', 'ХИТ FM', 'Театр', 'BOOM', 'Caribbean Club 27/1', 'USERTAG aka USERTAG', 'Hipster & Indie', 'Собака', 'Powerhouse WEBLINK', 'Яндекс. Музыка', 'Александринский театр', 'Саша-бар', 'EP', 'Amazon', 'Marks WEBLINK', 'Зал ожидание', 'Сокольники', 'Современное Искусство', 'Центр', 'Custom house (WEBLINK)', 'VINYLBOX', 'Bosco Fresh Fest', 'Rolling Stone', 'ЦВЗ \"Манеж\"', 'СБПЧ - Секрет', 'VICE', 'InStyle Man', 'App', 'Музей Эрарт', 'Новосибирский академгородке', 'Pronin & Youkovskiy', 'СБПЧ Оркестр', 'iTunes', 'Склад // WEBLINK', 'Летний лагер', 'Рихтер', 'Hype Machine', 'Forbes', 'Правда', 'Журнал Snob', 'СТС', 'WEBLINK/ Ура!', 'Чеченские войны', 'Известия', 'Мастерская', 'СПБЧ', 'Pioneerball', 'Камчатка', 'Noor Bar', 'WEBLINK/', 'Red', 'Подаривший жизнь', 'Клуб \"Мастерская', 'Chikiss', 'Слова', 'Самое Большое Простое Число (СБПЧ)', 'Село', 'Луна парк', 'PERMM!', 'Glamour', 'Зал Ожидание WEBLINK', 'Eventsupport', 'Far from Moscow', 'Rock Club', '16 тонны', 'Faces&Laces Locals', 'ГМИИ имя. Пушкин', 'Sentrum WEBLINK', 'Caribbean Club 27/1/19', 'Rave Smith', 'Гоголь', 'WEBLINK ph USERTAG', 'Esquire', 'Telegram', 'ТЦ МЕГА', 'Русский репортер', 'Дa', 'Sgt', 'Бурятская государственная филармония', 'Кассиопеей', 'Lana Del Rey\\ufeff', 'Агломерат', 'Race to Space', 'Baltcom', 'YEAH', 'MISHKA', 'The Calvert Journal', 'Сноб', 'Contour', 'Dza', 'Dreampro', 'ПКиО «Сокольники', 'ТАСС” (WEBLINK)', 'СБПЧ', 'Вера', 'Кап', 'Порт Севкабель', 'Mishke', 'SPIN Music Service', 'Кружок', 'OID', 'The Rock Club (WEBLINK)', 'RED', 'Медуза', 'УРА!', 'Guardian', 'Мегаполис', 'Танцплощадка', 'Оркестр \"Дружба', 'YouTube', 'Известия Hall', 'Б/У', 'Яндекс', 'Red Club', 'SYNTAX', 'Simple Symmetry', 'LBF', 'Афиша-Волна', 'Кассиопеи', 'Зеленый театр', 'Спутник', 'Дружба', 'Газетный Live 8/6', 'Легко-Легко', 'СПБЧ Оркестр', 'Ростелеком', 'Yeye Weller', 'Медузе', 'Kasabian\\ufeff', 'Южный', 'Первый', 'Стрелка', 'Доктор Хаус', 'USERTAG', 'Bosco Fresh', 'Музей современное искусство', 'ЦСИ “Облака” (WEBLINK)', 'Красноярский Музейный Центр', 'Союз', 'СКОРО 003', 'Dusche', 'Re Public', '44', 'МЕГА', 'ТАСС // WEBLINK', 'Звезда', 'СОЛЯНКА', 'Провал', 'Музей Москва', 'Marksbar', 'SLAVA', 'НОВОСТИ ГРУППЫ', 'ММСИ', 'ВКонтакте', 'Бухарест', 'Эрмитаж', 'DaDa', '16 Тонны', 'Солянка', 'George Best', 'Ночлежки', 'Октябрь', 'Jackethat', 'Море', 'Colta.ru', 'Эма', 'ЕстьЕстьЕсть', 'Е! WEBLINK', 'ТЦ \"Галерея', 'Яндекс.Музыка', 'Follow Me', 'Машина время', '103,4 FM', 'FEST', 'Самое Большое Простое Число', 'Космонавт', 'Музей Гражданские права', 'Маяк', 'Vinyla', 'Соскучился', 'Melody PM', 'Новая сцена', 'Квартира 19', 'Revoltmetr', 'Музеон', 'Театро', 'Енисей', 'Финляндский вокзал', 'Sentrum', 'Ворота', 'Творческое объединение \"Самое Большое Простое Число', 'Роскино', 'LES', 'Apple', 'Custom House', 'YouTubeMusic', 'Just Be Nice', 'Meduza\\u200b', 'Nikola Melnikov', 'Бутылка', 'Barents Spektakel', 'Noize MC', 'Афиша', 'The Base Women', 'Cannibal Corpse', 'Цоколь', 'Солянке', 'Дом печать', 'ЦДХ', 'Общество чистые тарелки', 'Lynch', 'Щелкунчик', 'Mishka', 'Fizzarum', 'Marks  WEBLINK'}\n"
     ]
    }
   ],
   "source": [
    "print(organizations)"
   ]
  },
  {
   "cell_type": "markdown",
   "metadata": {},
   "source": [
    "Да, мы видим, что результаты можно и нужно подчистить: удалить кавычки, смайлики, лишние знаки..."
   ]
  },
  {
   "cell_type": "markdown",
   "metadata": {},
   "source": [
    "## 5. Sentiment analysis\n",
    "\n",
    "![](https://camo.githubusercontent.com/8aa4db250051d2819683668ad27cf90862c644e2/68747470733a2f2f692e696d6775722e636f6d2f754c4d5750754c2e706e67)\n",
    "\n",
    "https://github.com/bureaucratic-labs/dostoevsky"
   ]
  },
  {
   "cell_type": "markdown",
   "metadata": {},
   "source": [
    "Библиотека классифицирует текст на 5 категорий:\n",
    "\n",
    "* Негативное настроение; \n",
    "* Позитивное настроение;\n",
    "* Нейтральное поведение;\n",
    "* Речевой акт (формальные поздравления, благодарственные и поздравительные посты);\n",
    "* Класс «пропустить» для неясных случаев."
   ]
  },
  {
   "cell_type": "code",
   "execution_count": null,
   "metadata": {},
   "outputs": [],
   "source": [
    "!pip install dostoevsky"
   ]
  },
  {
   "cell_type": "code",
   "execution_count": null,
   "metadata": {},
   "outputs": [],
   "source": [
    "!python -m dostoevsky download fasttext-social-network-model"
   ]
  },
  {
   "cell_type": "code",
   "execution_count": 72,
   "metadata": {},
   "outputs": [],
   "source": [
    "from dostoevsky.tokenization import RegexTokenizer\n",
    "from dostoevsky.models import FastTextSocialNetworkModel"
   ]
  },
  {
   "cell_type": "code",
   "execution_count": 73,
   "metadata": {},
   "outputs": [
    {
     "name": "stderr",
     "output_type": "stream",
     "text": [
      "\n"
     ]
    }
   ],
   "source": [
    "model = FastTextSocialNetworkModel(tokenizer=RegexTokenizer())"
   ]
  },
  {
   "cell_type": "code",
   "execution_count": 74,
   "metadata": {},
   "outputs": [
    {
     "name": "stdout",
     "output_type": "stream",
     "text": [
      "привет -> {'speech': 1.0000100135803223, 'skip': 0.0020607432816177607, 'negative': 1.0000003385357559e-05, 'positive': 1.0000003385357559e-05, 'neutral': 1.0000003385357559e-05}\n",
      "я люблю тебя!! -> {'positive': 0.9886782765388489, 'skip': 0.005394937004894018, 'neutral': 0.0005293049616739154, 'negative': 1.0000003385357559e-05, 'speech': 1.0000003385357559e-05}\n",
      "малолетние дебилы -> {'negative': 0.9525841474533081, 'neutral': 0.13661839067935944, 'positive': 0.010996942408382893, 'skip': 0.010996942408382893, 'speech': 1.0000003385357559e-05}\n"
     ]
    }
   ],
   "source": [
    "messages = [\n",
    "    'привет',\n",
    "    'я люблю тебя!!',\n",
    "    'малолетние дебилы'\n",
    "]\n",
    "\n",
    "results = model.predict(messages)\n",
    "\n",
    "for message, sentiment in zip(messages, results):\n",
    "    print(message, '->', sentiment)"
   ]
  },
  {
   "cell_type": "markdown",
   "metadata": {},
   "source": [
    "оооокей, а давайте посмотрим на наши тексты:"
   ]
  },
  {
   "cell_type": "code",
   "execution_count": 75,
   "metadata": {},
   "outputs": [],
   "source": [
    "text = \"\"\"13 сентября будем ходить ходуном. Прямо во дворе Пауэрхауса. Всё, как обычно, только соскучившись. Новые песни, старые песни. Прыжки и кувырки. Радость и смех.\n",
    "Такое надо в корне пресекать!\n",
    "Билеты: https://sbp4band.ticketscloud.org\n",
    "\n",
    "Пожалуйста, планируйте приобретение билетов заранее. Высока вероятность, что продажа на входе осуществляться не будет\"\"\""
   ]
  },
  {
   "cell_type": "code",
   "execution_count": 76,
   "metadata": {},
   "outputs": [],
   "source": [
    "results = model.predict([text])"
   ]
  },
  {
   "cell_type": "code",
   "execution_count": 77,
   "metadata": {},
   "outputs": [
    {
     "data": {
      "text/plain": [
       "{'neutral': 0.6654205918312073,\n",
       " 'negative': 0.13661839067935944,\n",
       " 'positive': 0.12253321707248688,\n",
       " 'skip': 0.09535945951938629,\n",
       " 'speech': 0.007825888693332672}"
      ]
     },
     "execution_count": 77,
     "metadata": {},
     "output_type": "execute_result"
    }
   ],
   "source": [
    "results[0]"
   ]
  },
  {
   "cell_type": "code",
   "execution_count": 78,
   "metadata": {},
   "outputs": [],
   "source": [
    "text2 = \"\"\"Привет, друзья! Сегодня в галлерее 11.12 в USERTAG открывается выставка нашего друга художника USERTAG. \n",
    "Вокруг нашей песни “1999” Слава и режиссер Сергей Канчер создали большой проект, посвященный Первой и Второй Чеченским войнам. \n",
    "Это и тотальная инсталляция, и фотографии, и артефакты, и интервью с ветеранами обеих войн и, конечно, видео на песню “1999”, которое вы впервые сможете увидеть на выставке. \n",
    "Это попытка осмыслить жуткий опыт войны. \n",
    "Это попытка вглядеться в то, на что нельзя закрывать глаза. \n",
    "Потому что, даже если отвернуться, то, что произошло, никуда не денется.\"\"\""
   ]
  },
  {
   "cell_type": "code",
   "execution_count": 79,
   "metadata": {},
   "outputs": [],
   "source": [
    "results = model.predict([text2])"
   ]
  },
  {
   "cell_type": "code",
   "execution_count": 80,
   "metadata": {},
   "outputs": [
    {
     "data": {
      "text/plain": [
       "{'neutral': 0.5078218579292297,\n",
       " 'negative': 0.20690405368804932,\n",
       " 'skip': 0.11921291798353195,\n",
       " 'positive': 0.08757384121417999,\n",
       " 'speech': 0.014967083930969238}"
      ]
     },
     "execution_count": 80,
     "metadata": {},
     "output_type": "execute_result"
    }
   ],
   "source": [
    "results[0]"
   ]
  },
  {
   "cell_type": "code",
   "execution_count": null,
   "metadata": {},
   "outputs": [],
   "source": []
  }
 ],
 "metadata": {
  "kernelspec": {
   "display_name": "Python 3",
   "language": "python",
   "name": "python3"
  },
  "language_info": {
   "codemirror_mode": {
    "name": "ipython",
    "version": 3
   },
   "file_extension": ".py",
   "mimetype": "text/x-python",
   "name": "python",
   "nbconvert_exporter": "python",
   "pygments_lexer": "ipython3",
   "version": "3.6.6"
  }
 },
 "nbformat": 4,
 "nbformat_minor": 2
}
