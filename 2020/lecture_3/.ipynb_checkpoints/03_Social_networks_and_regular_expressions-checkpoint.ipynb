{
 "cells": [
  {
   "cell_type": "markdown",
   "metadata": {},
   "source": [
    "# Парсинг социальных сетей и регулярные выражения"
   ]
  },
  {
   "cell_type": "markdown",
   "metadata": {},
   "source": [
    "## Регулярные выражения\n",
    "\n",
    "Прежде чем мы приступим к самому интересному -- парсингу соц. сетей, давайте научимся регулярным выражениям за 10 минут."
   ]
  },
  {
   "cell_type": "markdown",
   "metadata": {},
   "source": [
    "переходим **СЮДА**: https://regexone.com/."
   ]
  },
  {
   "cell_type": "markdown",
   "metadata": {},
   "source": [
    "Особым любителям регулярок [сюда](https://alf.nu/RegexGolf).\n",
    "\n",
    "Обязательно к прочтению дома:\n",
    "\n",
    "* [Регулярные выражения, пособие для новичков. Часть 1](https://habr.com/ru/post/115825/)\n",
    "\n",
    "* [Регулярные выражения, пособие для новичков. Часть 2](https://habr.com/ru/post/115436/)\n",
    "\n",
    "* https://ru.wikipedia.org/wiki/Регулярные_выражения"
   ]
  },
  {
   "cell_type": "markdown",
   "metadata": {},
   "source": [
    "Загружаем библиотеку для регулярных выражений:"
   ]
  },
  {
   "cell_type": "code",
   "execution_count": 1,
   "metadata": {},
   "outputs": [],
   "source": [
    "import re"
   ]
  },
  {
   "cell_type": "markdown",
   "metadata": {},
   "source": [
    "С регулярными выражениями мы продолжим работу на следующем занятии, после того, как вы прочитаете эти статьи. Поехали к самому интересному!"
   ]
  },
  {
   "cell_type": "markdown",
   "metadata": {},
   "source": [
    "## VK"
   ]
  },
  {
   "cell_type": "code",
   "execution_count": null,
   "metadata": {},
   "outputs": [],
   "source": [
    "!pip install vk"
   ]
  },
  {
   "cell_type": "code",
   "execution_count": 2,
   "metadata": {},
   "outputs": [],
   "source": [
    "import json\n",
    "import vk"
   ]
  },
  {
   "cell_type": "code",
   "execution_count": null,
   "metadata": {},
   "outputs": [],
   "source": [
    "token = \"\"  # Сервисный ключ доступа\n",
    "session = vk.Session(access_token=token)  # Авторизация\n",
    "vk_api = vk.API(session)"
   ]
  },
  {
   "cell_type": "markdown",
   "metadata": {},
   "source": [
    "Никто, естественно, не учит методы наизусть. Всегда и везде есть (ну или должна быть) документация https://vk.com/dev/methods"
   ]
  },
  {
   "cell_type": "markdown",
   "metadata": {},
   "source": [
    "Мы разберем только основные методы, если нужно что-то нестандартное, то стоит сходить в документацию"
   ]
  },
  {
   "cell_type": "markdown",
   "metadata": {},
   "source": [
    "#### Найти пользователя по id:"
   ]
  },
  {
   "cell_type": "code",
   "execution_count": null,
   "metadata": {},
   "outputs": [],
   "source": [
    "vk_api.users.get(user_ids=[1, 2, 'lilas_pourpre'], fields=[\"photo_id\", \"sex\", \"bdate\", \"city\", \"country\", \"home_town\"], v=5.124)"
   ]
  },
  {
   "cell_type": "markdown",
   "metadata": {},
   "source": [
    "#### Найти участников сообщества:"
   ]
  },
  {
   "cell_type": "code",
   "execution_count": null,
   "metadata": {},
   "outputs": [],
   "source": [
    "def get_members(groupid, fields=('sex', 'bdate', 'city', 'country', 'domain')):\n",
    "    first = vk_api.groups.getMembers(group_id=groupid, fields=fields, v=5.92)  # Первое выполнение метода\n",
    "    data = first[\"items\"]  # Присваиваем переменной первую тысячу id'шников\n",
    "    count = first[\"count\"] // 1000  # Присваиваем переменной количество тысяч участников\n",
    "    # С каждым проходом цикла смещение offset увеличивается на тысячу\n",
    "    # и еще тысяча id'шников добавляется к нашему списку.\n",
    "    for i in range(1, count+1):  \n",
    "        data = data + vk_api.groups.getMembers(group_id=groupid, fields=fields, v=5.92, offset=i*1000)[\"items\"]\n",
    "        \n",
    "    return data"
   ]
  },
  {
   "cell_type": "code",
   "execution_count": null,
   "metadata": {},
   "outputs": [],
   "source": [
    "sbp4_members = get_members(\"sbp4band\")\n",
    "len(sbp4_members)"
   ]
  },
  {
   "cell_type": "code",
   "execution_count": null,
   "metadata": {},
   "outputs": [],
   "source": [
    "sbp4_members[:10]"
   ]
  },
  {
   "cell_type": "markdown",
   "metadata": {},
   "source": [
    "#### Выгрузить посты из сообщества:"
   ]
  },
  {
   "cell_type": "code",
   "execution_count": null,
   "metadata": {},
   "outputs": [],
   "source": [
    "def get_posts(owner_id):\n",
    "    first = vk_api.wall.get(domain=owner_id, count=100, filter=\"owner\", v=5.124)\n",
    "    data = first[\"items\"]  # Присваиваем переменной первую тысячу id'шников\n",
    "    count = first[\"count\"] // 100  # Присваиваем переменной количество тысяч участников\n",
    "    # С каждым проходом цикла смещение offset увеличивается на тысячу\n",
    "    # и еще тысяча id'шников добавляется к нашему списку.\n",
    "    for i in range(1, count+1):  \n",
    "        data += vk_api.wall.get(domain=owner_id, v=5.124, filter=\"owner\", count=100, offset=i*100)[\"items\"]\n",
    "    return [i['text'] for i in data]"
   ]
  },
  {
   "cell_type": "code",
   "execution_count": null,
   "metadata": {},
   "outputs": [],
   "source": [
    "sbp4_posts = get_posts(spb4)\n",
    "len(sbp4_posts)"
   ]
  },
  {
   "cell_type": "code",
   "execution_count": null,
   "metadata": {},
   "outputs": [],
   "source": [
    "for post in sbp4_posts[:10]:\n",
    "    print([post])"
   ]
  },
  {
   "cell_type": "markdown",
   "metadata": {},
   "source": [
    "#### Поиск пабликов по запросу:"
   ]
  },
  {
   "cell_type": "code",
   "execution_count": null,
   "metadata": {},
   "outputs": [],
   "source": [
    "import time"
   ]
  },
  {
   "cell_type": "code",
   "execution_count": null,
   "metadata": {},
   "outputs": [],
   "source": [
    "# https://vkhost.github.io/\n",
    "\n",
    "personal_token = \"\"\n",
    "session = vk.Session(access_token=personal_token)  # Авторизация\n",
    "vk_api = vk.API(session)"
   ]
  },
  {
   "cell_type": "markdown",
   "metadata": {},
   "source": [
    "Обратите внимание — даже при использовании параметра offset для получения информации доступны только первые 1000 результатов."
   ]
  },
  {
   "cell_type": "code",
   "execution_count": null,
   "metadata": {},
   "outputs": [],
   "source": [
    "def get_groups(query):\n",
    "    first = vk_api.groups.search(q=query, count=1000, type=\"group\", v=5.124)\n",
    "    data = first[\"items\"]  # Присваиваем переменной первую тысячу id'шников\n",
    "    count = first[\"count\"]\n",
    "    return [(i['name'], i['id']) for i in data]"
   ]
  },
  {
   "cell_type": "code",
   "execution_count": null,
   "metadata": {},
   "outputs": [],
   "source": [
    "found_groups = get_groups(\"hip-hop\")\n",
    "len(found_groups)"
   ]
  },
  {
   "cell_type": "markdown",
   "metadata": {},
   "source": [
    "Великолепно. Мы собрали информацию по подписчикам, выгрузили все посты паблика и умеем искать паблики по запросу.\n",
    "\n",
    "Теперь наша задача -- почистить данные с помощью регулярок и сохранить в файлы."
   ]
  },
  {
   "cell_type": "markdown",
   "metadata": {},
   "source": [
    "**Немного про ваш проект:** предполагается, что вы таким образом (или вручную) ищете и находите нужные вам паблики, далее для каждого паблика выгружаете нужную информацию: например, подписчиков (смотрите, из какого они города, их пол и возраст, строите графики) и посты (извлекаете информацию о концертах или об альбомах, клипах, и т.д.)"
   ]
  },
  {
   "cell_type": "markdown",
   "metadata": {},
   "source": [
    "#### 1. get_groups\n",
    "\n",
    "Для начала разберемся с найденным списком групп, сохраним его в файл:"
   ]
  },
  {
   "cell_type": "code",
   "execution_count": null,
   "metadata": {},
   "outputs": [],
   "source": [
    "# our code here"
   ]
  },
  {
   "cell_type": "markdown",
   "metadata": {},
   "source": [
    "Теперь вы всегда можете его заново открыть и использовать в дальнейшем"
   ]
  },
  {
   "cell_type": "markdown",
   "metadata": {},
   "source": [
    "#### 2. get_members\n",
    "\n",
    "Теперь разберемся с подписчиками"
   ]
  },
  {
   "cell_type": "code",
   "execution_count": null,
   "metadata": {},
   "outputs": [],
   "source": [
    "len(sbp4_members)"
   ]
  },
  {
   "cell_type": "code",
   "execution_count": null,
   "metadata": {},
   "outputs": [],
   "source": [
    "sbp4_members[0]"
   ]
  },
  {
   "cell_type": "code",
   "execution_count": null,
   "metadata": {},
   "outputs": [],
   "source": [
    "# our code here"
   ]
  },
  {
   "cell_type": "markdown",
   "metadata": {},
   "source": [
    "#### 3. get_posts"
   ]
  },
  {
   "cell_type": "markdown",
   "metadata": {},
   "source": [
    "и, наконец, с постами"
   ]
  },
  {
   "cell_type": "code",
   "execution_count": null,
   "metadata": {},
   "outputs": [],
   "source": [
    "from pymystem3 import Mystem"
   ]
  },
  {
   "cell_type": "code",
   "execution_count": null,
   "metadata": {},
   "outputs": [],
   "source": [
    "# your regexps below\n",
    "http_pattern = re.compile(\"your regexp here\")\n",
    "user_tag_pattern = re.compile(\"your regexp here\")"
   ]
  },
  {
   "cell_type": "code",
   "execution_count": null,
   "metadata": {},
   "outputs": [],
   "source": [
    "def clean_text(text):\n",
    "    \"\"\"\n",
    "    удалить ссылки, удалить переводы строк, удалить отметки пользователей\n",
    "    \"\"\"\n",
    "    text = re.sub(http_pattern, \"\", text)\n",
    "    text = re.sub(user_tag_pattern, \"\", text)\n",
    "    text = # your code here (удалить переводы строк)\n",
    "    return text"
   ]
  },
  {
   "cell_type": "code",
   "execution_count": null,
   "metadata": {},
   "outputs": [],
   "source": [
    "def lemmatize_text(text):\n",
    "    m = Mystem()\n",
    "    lemmas = m.lemmatize(text)\n",
    "    lemmatized_text = ''.join(lemmas)\n",
    "    return lemmatized_text"
   ]
  },
  {
   "cell_type": "code",
   "execution_count": null,
   "metadata": {},
   "outputs": [],
   "source": [
    "for post in sbp4_posts:\n",
    "    cleaned = clean_text(post)\n",
    "    print(cleaned)\n",
    "    lemmatized = lemmatize_text(cleaned)\n",
    "    print(lemmatized)\n",
    "    break"
   ]
  },
  {
   "cell_type": "markdown",
   "metadata": {},
   "source": [
    "## Twitter"
   ]
  },
  {
   "cell_type": "code",
   "execution_count": null,
   "metadata": {},
   "outputs": [],
   "source": [
    "import requests\n",
    "from requests_oauthlib import OAuth1\n",
    "url = 'https://api.twitter.com/1.1/account/verify_credentials.json'\n",
    "\n",
    "API_KEY=\"\"\n",
    "API_SECRET=\"\"\n",
    "ACCESS_TOKEN=\"\"\n",
    "ACCESS_TOKEN_SECRET=\"\"\n",
    "\n",
    "auth = OAuth1(API_KEY, API_SECRET, ACCESS_TOKEN, ACCESS_TOKEN_SECRET)\n",
    "requests.get(url, auth=auth)"
   ]
  },
  {
   "cell_type": "code",
   "execution_count": null,
   "metadata": {},
   "outputs": [],
   "source": [
    "account_list = [\"realDonaldTrump\"]"
   ]
  },
  {
   "cell_type": "markdown",
   "metadata": {},
   "source": [
    "Twitter API explicitly says that you cannot retrieve more then 200 tweets from a user per request so this is not a limitation of this particular library you're using but a limitation imposed by Twitter. But keep in mind that this is per request, if you will send multiple requests you can get up to 3200 tweets in total. But this still means that you can't get all tweets, only 3200."
   ]
  },
  {
   "cell_type": "code",
   "execution_count": null,
   "metadata": {},
   "outputs": [],
   "source": [
    "r = requests.get('https://api.twitter.com/1.1/statuses/user_timeline.json?screen_name=realDonaldTrump&count=200', auth=auth).json()\n",
    "for i in r:\n",
    "    print(i['text'])"
   ]
  },
  {
   "cell_type": "code",
   "execution_count": null,
   "metadata": {},
   "outputs": [],
   "source": []
  }
 ],
 "metadata": {
  "kernelspec": {
   "display_name": "Python 3",
   "language": "python",
   "name": "python3"
  },
  "language_info": {
   "codemirror_mode": {
    "name": "ipython",
    "version": 3
   },
   "file_extension": ".py",
   "mimetype": "text/x-python",
   "name": "python",
   "nbconvert_exporter": "python",
   "pygments_lexer": "ipython3",
   "version": "3.6.6"
  }
 },
 "nbformat": 4,
 "nbformat_minor": 2
}
